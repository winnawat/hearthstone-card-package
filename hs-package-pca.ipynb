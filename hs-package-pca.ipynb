{
 "cells": [
  {
   "cell_type": "markdown",
   "metadata": {},
   "source": [
    "# Clustering Analysis of Hearthstone Cards - PCA\n",
    "This section uses Principal Component Analysis (PCA) to attempt to visualize where each card is relative to the rest of the cards.\n",
    "\n",
    "----"
   ]
  },
  {
   "cell_type": "markdown",
   "metadata": {},
   "source": [
    "## Introduction\n",
    "In this case, PCA decomposes a multi-dimensinoal matrix of cards' features into a predefined number of arbitary axes. These arbitary axes are the directions of vectors that explain the largest variance among the samples.\n",
    "\n",
    "----"
   ]
  },
  {
   "cell_type": "markdown",
   "metadata": {},
   "source": [
    "### Importing packages"
   ]
  },
  {
   "cell_type": "code",
   "execution_count": 41,
   "metadata": {},
   "outputs": [],
   "source": [
    "import matplotlib.pyplot as plt\n",
    "import numpy as np\n",
    "import pandas as pd\n",
    "from sklearn.decomposition import PCA\n",
    "from sklearn.manifold import TSNE"
   ]
  },
  {
   "cell_type": "markdown",
   "metadata": {},
   "source": [
    "## Loading data\n",
    "The processed data has already been generated and saved in the notebook `hs-package-kmeans.ipynb`. Reading the CSV file `cards-decks.csv`"
   ]
  },
  {
   "cell_type": "code",
   "execution_count": 13,
   "metadata": {},
   "outputs": [
    {
     "data": {
      "text/html": [
       "<div>\n",
       "<style scoped>\n",
       "    .dataframe tbody tr th:only-of-type {\n",
       "        vertical-align: middle;\n",
       "    }\n",
       "\n",
       "    .dataframe tbody tr th {\n",
       "        vertical-align: top;\n",
       "    }\n",
       "\n",
       "    .dataframe thead th {\n",
       "        text-align: right;\n",
       "    }\n",
       "</style>\n",
       "<table border=\"1\" class=\"dataframe\">\n",
       "  <thead>\n",
       "    <tr style=\"text-align: right;\">\n",
       "      <th></th>\n",
       "      <th>137</th>\n",
       "      <th>1690</th>\n",
       "      <th>2414</th>\n",
       "      <th>3527</th>\n",
       "      <th>3992</th>\n",
       "      <th>4592</th>\n",
       "      <th>4965</th>\n",
       "      <th>5269</th>\n",
       "      <th>5327</th>\n",
       "      <th>5358</th>\n",
       "      <th>...</th>\n",
       "      <th>325935</th>\n",
       "      <th>325937</th>\n",
       "      <th>326209</th>\n",
       "      <th>330402</th>\n",
       "      <th>331034</th>\n",
       "      <th>334031</th>\n",
       "      <th>335601</th>\n",
       "      <th>336843</th>\n",
       "      <th>345826</th>\n",
       "      <th>346203</th>\n",
       "    </tr>\n",
       "    <tr>\n",
       "      <th>name</th>\n",
       "      <th></th>\n",
       "      <th></th>\n",
       "      <th></th>\n",
       "      <th></th>\n",
       "      <th></th>\n",
       "      <th></th>\n",
       "      <th></th>\n",
       "      <th></th>\n",
       "      <th></th>\n",
       "      <th></th>\n",
       "      <th></th>\n",
       "      <th></th>\n",
       "      <th></th>\n",
       "      <th></th>\n",
       "      <th></th>\n",
       "      <th></th>\n",
       "      <th></th>\n",
       "      <th></th>\n",
       "      <th></th>\n",
       "      <th></th>\n",
       "      <th></th>\n",
       "    </tr>\n",
       "  </thead>\n",
       "  <tbody>\n",
       "    <tr>\n",
       "      <th>Oasis Snapjaw</th>\n",
       "      <td>0</td>\n",
       "      <td>0</td>\n",
       "      <td>0</td>\n",
       "      <td>0</td>\n",
       "      <td>0</td>\n",
       "      <td>0</td>\n",
       "      <td>0</td>\n",
       "      <td>0</td>\n",
       "      <td>0</td>\n",
       "      <td>0</td>\n",
       "      <td>...</td>\n",
       "      <td>0</td>\n",
       "      <td>0</td>\n",
       "      <td>0</td>\n",
       "      <td>0</td>\n",
       "      <td>0</td>\n",
       "      <td>0</td>\n",
       "      <td>0</td>\n",
       "      <td>0</td>\n",
       "      <td>0</td>\n",
       "      <td>0</td>\n",
       "    </tr>\n",
       "    <tr>\n",
       "      <th>Shadow Word: Death</th>\n",
       "      <td>0</td>\n",
       "      <td>0</td>\n",
       "      <td>0</td>\n",
       "      <td>0</td>\n",
       "      <td>0</td>\n",
       "      <td>0</td>\n",
       "      <td>0</td>\n",
       "      <td>0</td>\n",
       "      <td>0</td>\n",
       "      <td>0</td>\n",
       "      <td>...</td>\n",
       "      <td>0</td>\n",
       "      <td>0</td>\n",
       "      <td>0</td>\n",
       "      <td>0</td>\n",
       "      <td>0</td>\n",
       "      <td>0</td>\n",
       "      <td>0</td>\n",
       "      <td>0</td>\n",
       "      <td>0</td>\n",
       "      <td>0</td>\n",
       "    </tr>\n",
       "    <tr>\n",
       "      <th>Silent Knight</th>\n",
       "      <td>0</td>\n",
       "      <td>0</td>\n",
       "      <td>0</td>\n",
       "      <td>0</td>\n",
       "      <td>0</td>\n",
       "      <td>0</td>\n",
       "      <td>0</td>\n",
       "      <td>0</td>\n",
       "      <td>0</td>\n",
       "      <td>0</td>\n",
       "      <td>...</td>\n",
       "      <td>0</td>\n",
       "      <td>0</td>\n",
       "      <td>0</td>\n",
       "      <td>0</td>\n",
       "      <td>0</td>\n",
       "      <td>0</td>\n",
       "      <td>0</td>\n",
       "      <td>0</td>\n",
       "      <td>0</td>\n",
       "      <td>0</td>\n",
       "    </tr>\n",
       "    <tr>\n",
       "      <th>Unlicensed Apothecary</th>\n",
       "      <td>0</td>\n",
       "      <td>0</td>\n",
       "      <td>0</td>\n",
       "      <td>0</td>\n",
       "      <td>0</td>\n",
       "      <td>0</td>\n",
       "      <td>0</td>\n",
       "      <td>0</td>\n",
       "      <td>0</td>\n",
       "      <td>0</td>\n",
       "      <td>...</td>\n",
       "      <td>0</td>\n",
       "      <td>0</td>\n",
       "      <td>0</td>\n",
       "      <td>0</td>\n",
       "      <td>0</td>\n",
       "      <td>0</td>\n",
       "      <td>0</td>\n",
       "      <td>0</td>\n",
       "      <td>0</td>\n",
       "      <td>0</td>\n",
       "    </tr>\n",
       "    <tr>\n",
       "      <th>Shadow Madness</th>\n",
       "      <td>0</td>\n",
       "      <td>0</td>\n",
       "      <td>0</td>\n",
       "      <td>0</td>\n",
       "      <td>0</td>\n",
       "      <td>0</td>\n",
       "      <td>0</td>\n",
       "      <td>0</td>\n",
       "      <td>0</td>\n",
       "      <td>0</td>\n",
       "      <td>...</td>\n",
       "      <td>0</td>\n",
       "      <td>0</td>\n",
       "      <td>0</td>\n",
       "      <td>0</td>\n",
       "      <td>0</td>\n",
       "      <td>0</td>\n",
       "      <td>0</td>\n",
       "      <td>0</td>\n",
       "      <td>0</td>\n",
       "      <td>0</td>\n",
       "    </tr>\n",
       "  </tbody>\n",
       "</table>\n",
       "<p>5 rows × 1296 columns</p>\n",
       "</div>"
      ],
      "text/plain": [
       "                       137  1690  2414  3527  3992  4592  4965  5269  5327  \\\n",
       "name                                                                         \n",
       "Oasis Snapjaw            0     0     0     0     0     0     0     0     0   \n",
       "Shadow Word: Death       0     0     0     0     0     0     0     0     0   \n",
       "Silent Knight            0     0     0     0     0     0     0     0     0   \n",
       "Unlicensed Apothecary    0     0     0     0     0     0     0     0     0   \n",
       "Shadow Madness           0     0     0     0     0     0     0     0     0   \n",
       "\n",
       "                       5358  ...  325935  325937  326209  330402  331034  \\\n",
       "name                         ...                                           \n",
       "Oasis Snapjaw             0  ...       0       0       0       0       0   \n",
       "Shadow Word: Death        0  ...       0       0       0       0       0   \n",
       "Silent Knight             0  ...       0       0       0       0       0   \n",
       "Unlicensed Apothecary     0  ...       0       0       0       0       0   \n",
       "Shadow Madness            0  ...       0       0       0       0       0   \n",
       "\n",
       "                       334031  335601  336843  345826  346203  \n",
       "name                                                           \n",
       "Oasis Snapjaw               0       0       0       0       0  \n",
       "Shadow Word: Death          0       0       0       0       0  \n",
       "Silent Knight               0       0       0       0       0  \n",
       "Unlicensed Apothecary       0       0       0       0       0  \n",
       "Shadow Madness              0       0       0       0       0  \n",
       "\n",
       "[5 rows x 1296 columns]"
      ]
     },
     "execution_count": 13,
     "metadata": {},
     "output_type": "execute_result"
    }
   ],
   "source": [
    "# reading the csv file, using the first column as index\n",
    "cards_features = pd.read_csv(\"./cards-decks.csv\", index_col=0)\n",
    "cards_features.head()"
   ]
  },
  {
   "cell_type": "code",
   "execution_count": 19,
   "metadata": {},
   "outputs": [],
   "source": [
    "# saving the dataframe as numpy array\n",
    "cards_features_array = np.array(cards_features)"
   ]
  },
  {
   "cell_type": "markdown",
   "metadata": {},
   "source": [
    "## Performing PCA (2 dimensions)\n",
    "Reducing the dimensions of the data from 1296 dimensions to 2 most important arbitary dimensions."
   ]
  },
  {
   "cell_type": "code",
   "execution_count": 25,
   "metadata": {},
   "outputs": [
    {
     "name": "stdout",
     "output_type": "stream",
     "text": [
      "Variance explained by the top 2 axes: 0.071, 0.054\n"
     ]
    }
   ],
   "source": [
    "pca = PCA(n_components=2)\n",
    "cards_features_array_pca = pca.fit_transform(cards_features_array)\n",
    "\n",
    "print(\"Variance explained by the top 2 axes: %0.3f, %0.3f\" % tuple(pca.explained_variance_ratio_))"
   ]
  },
  {
   "cell_type": "markdown",
   "metadata": {},
   "source": [
    "The two axes calcualted by PCA are able to explain 7.1% andd 5.4% of the variace."
   ]
  },
  {
   "cell_type": "code",
   "execution_count": 32,
   "metadata": {},
   "outputs": [
    {
     "data": {
      "text/html": [
       "<div>\n",
       "<style scoped>\n",
       "    .dataframe tbody tr th:only-of-type {\n",
       "        vertical-align: middle;\n",
       "    }\n",
       "\n",
       "    .dataframe tbody tr th {\n",
       "        vertical-align: top;\n",
       "    }\n",
       "\n",
       "    .dataframe thead th {\n",
       "        text-align: right;\n",
       "    }\n",
       "</style>\n",
       "<table border=\"1\" class=\"dataframe\">\n",
       "  <thead>\n",
       "    <tr style=\"text-align: right;\">\n",
       "      <th></th>\n",
       "      <th>component 1</th>\n",
       "      <th>component 2</th>\n",
       "    </tr>\n",
       "    <tr>\n",
       "      <th>name</th>\n",
       "      <th></th>\n",
       "      <th></th>\n",
       "    </tr>\n",
       "  </thead>\n",
       "  <tbody>\n",
       "    <tr>\n",
       "      <th>Oasis Snapjaw</th>\n",
       "      <td>-0.874301</td>\n",
       "      <td>-0.594297</td>\n",
       "    </tr>\n",
       "    <tr>\n",
       "      <th>Shadow Word: Death</th>\n",
       "      <td>0.549879</td>\n",
       "      <td>2.103244</td>\n",
       "    </tr>\n",
       "    <tr>\n",
       "      <th>Silent Knight</th>\n",
       "      <td>-0.652878</td>\n",
       "      <td>-0.541117</td>\n",
       "    </tr>\n",
       "    <tr>\n",
       "      <th>Unlicensed Apothecary</th>\n",
       "      <td>-0.829450</td>\n",
       "      <td>-0.517632</td>\n",
       "    </tr>\n",
       "    <tr>\n",
       "      <th>Shadow Madness</th>\n",
       "      <td>-0.797094</td>\n",
       "      <td>-0.321548</td>\n",
       "    </tr>\n",
       "  </tbody>\n",
       "</table>\n",
       "</div>"
      ],
      "text/plain": [
       "                       component 1  component 2\n",
       "name                                           \n",
       "Oasis Snapjaw            -0.874301    -0.594297\n",
       "Shadow Word: Death        0.549879     2.103244\n",
       "Silent Knight            -0.652878    -0.541117\n",
       "Unlicensed Apothecary    -0.829450    -0.517632\n",
       "Shadow Madness           -0.797094    -0.321548"
      ]
     },
     "execution_count": 32,
     "metadata": {},
     "output_type": "execute_result"
    }
   ],
   "source": [
    "cards_features_array_pca_df = pd.DataFrame(cards_features_array_pca, columns = ['component 1', 'component 2'], index=cards_features.index)\n",
    "cards_features_array_pca_df.head()"
   ]
  },
  {
   "cell_type": "markdown",
   "metadata": {},
   "source": [
    "## Performing TSNE (2 dimensions)\n",
    "Using TSNE to reduce the dimension of the dataset to 2 dimensions."
   ]
  },
  {
   "cell_type": "code",
   "execution_count": 42,
   "metadata": {},
   "outputs": [],
   "source": [
    "cards_features_array_tsne = TSNE(n_components=2).fit_transform(cards_features_array)"
   ]
  },
  {
   "cell_type": "code",
   "execution_count": null,
   "metadata": {},
   "outputs": [],
   "source": []
  },
  {
   "cell_type": "markdown",
   "metadata": {},
   "source": [
    "## Plotting the PCA data"
   ]
  },
  {
   "cell_type": "code",
   "execution_count": 40,
   "metadata": {},
   "outputs": [
    {
     "data": {
      "image/png": "[encoded data removed]",
      "text/plain": [
       "<Figure size 720x720 with 1 Axes>"
      ]
     },
     "metadata": {
      "needs_background": "light"
     },
     "output_type": "display_data"
    }
   ],
   "source": [
    "# plotting a simple scatterplot without and color partitining.\n",
    "ax = plt.figure(figsize=(10, 10))\n",
    "ax = plt.subplot(1, 1, 1)\n",
    "ax.set_xlabel('Principal Component 1', fontsize=15)\n",
    "ax.set_ylabel('Principal Component 2', fontsize=15)\n",
    "ax.set_title('2-component PCA', fontsize=20)\n",
    "ax.scatter(cards_features_array_pca_df['component 1'], cards_features_array_pca_df['component 2'])\n",
    "ax.grid()\n",
    "ax.set(aspect='equal');"
   ]
  },
  {
   "cell_type": "code",
   "execution_count": null,
   "metadata": {},
   "outputs": [],
   "source": []
  }
 ],
 "metadata": {
  "kernelspec": {
   "display_name": "Python 3",
   "language": "python",
   "name": "python3"
  },
  "language_info": {
   "codemirror_mode": {
    "name": "ipython",
    "version": 3
   },
   "file_extension": ".py",
   "mimetype": "text/x-python",
   "name": "python",
   "nbconvert_exporter": "python",
   "pygments_lexer": "ipython3",
   "version": "3.6.7"
  }
 },
 "nbformat": 4,
 "nbformat_minor": 2
}
