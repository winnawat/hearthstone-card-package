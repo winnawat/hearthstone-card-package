{
 "cells": [
  {
   "cell_type": "markdown",
   "metadata": {},
   "source": [
    "# Clustering Analysis of Hearthstone Cards - visualizations\n",
    "This section uses dimensionality reduction techniques such as Principal Component Analysis (PCA) and T-distributed Stochastic Neighbor Embedding (TSNE) to attempt to visualize where each card is relative to one another.\n",
    "\n",
    "----"
   ]
  },
  {
   "cell_type": "markdown",
   "metadata": {},
   "source": [
    "## Introduction\n",
    "**Dimensionality reduction techniques used**\n",
    "- **Principal Component Analysis (PCA)**  \n",
    "PCA is a dimensionality deruction technique that decomposes a multi-dimensional matrix of features into a number of arbitary axes which explain the largest portion of the samples' variance. For visualizations, PCA is generally used to decompose the features into 2 dimensions and the samples are then plotted using this 2-dimensional coordinate system.  \n",
    "- **T-distributed Stochastic Neighbor Embedding (TSNE)**  \n",
    "On the other hand, TSNE uses probability distributions to express similarities between two points. It does so in such a way that if two points, A and B, were similar, given that point A is selected, point B then has a high probability of being chosen as a neighbor. TSNE then finds the positions of the points in a 2-dimensional space that minimizes the differences between the probability distributions among the pairs.\n",
    "\n",
    "----"
   ]
  },
  {
   "cell_type": "markdown",
   "metadata": {},
   "source": [
    "### Importing packages"
   ]
  },
  {
   "cell_type": "code",
   "execution_count": 1,
   "metadata": {},
   "outputs": [],
   "source": [
    "import matplotlib.pyplot as plt\n",
    "import numpy as np\n",
    "import pandas as pd\n",
    "from sklearn.decomposition import PCA\n",
    "from sklearn.manifold import TSNE"
   ]
  },
  {
   "cell_type": "markdown",
   "metadata": {},
   "source": [
    "## Loading data\n",
    "The processed data has already been generated and saved in the notebook `hs-package-kmeans.ipynb`. Reading the CSV file `cards-decks.csv`"
   ]
  },
  {
   "cell_type": "code",
   "execution_count": 2,
   "metadata": {},
   "outputs": [
    {
     "data": {
      "text/html": [
       "<div>\n",
       "<style scoped>\n",
       "    .dataframe tbody tr th:only-of-type {\n",
       "        vertical-align: middle;\n",
       "    }\n",
       "\n",
       "    .dataframe tbody tr th {\n",
       "        vertical-align: top;\n",
       "    }\n",
       "\n",
       "    .dataframe thead th {\n",
       "        text-align: right;\n",
       "    }\n",
       "</style>\n",
       "<table border=\"1\" class=\"dataframe\">\n",
       "  <thead>\n",
       "    <tr style=\"text-align: right;\">\n",
       "      <th></th>\n",
       "      <th>137</th>\n",
       "      <th>1690</th>\n",
       "      <th>2414</th>\n",
       "      <th>3527</th>\n",
       "      <th>3992</th>\n",
       "      <th>4592</th>\n",
       "      <th>4965</th>\n",
       "      <th>5269</th>\n",
       "      <th>5327</th>\n",
       "      <th>5358</th>\n",
       "      <th>...</th>\n",
       "      <th>325935</th>\n",
       "      <th>325937</th>\n",
       "      <th>326209</th>\n",
       "      <th>330402</th>\n",
       "      <th>331034</th>\n",
       "      <th>334031</th>\n",
       "      <th>335601</th>\n",
       "      <th>336843</th>\n",
       "      <th>345826</th>\n",
       "      <th>346203</th>\n",
       "    </tr>\n",
       "    <tr>\n",
       "      <th>name</th>\n",
       "      <th></th>\n",
       "      <th></th>\n",
       "      <th></th>\n",
       "      <th></th>\n",
       "      <th></th>\n",
       "      <th></th>\n",
       "      <th></th>\n",
       "      <th></th>\n",
       "      <th></th>\n",
       "      <th></th>\n",
       "      <th></th>\n",
       "      <th></th>\n",
       "      <th></th>\n",
       "      <th></th>\n",
       "      <th></th>\n",
       "      <th></th>\n",
       "      <th></th>\n",
       "      <th></th>\n",
       "      <th></th>\n",
       "      <th></th>\n",
       "      <th></th>\n",
       "    </tr>\n",
       "  </thead>\n",
       "  <tbody>\n",
       "    <tr>\n",
       "      <th>Oasis Snapjaw</th>\n",
       "      <td>0</td>\n",
       "      <td>0</td>\n",
       "      <td>0</td>\n",
       "      <td>0</td>\n",
       "      <td>0</td>\n",
       "      <td>0</td>\n",
       "      <td>0</td>\n",
       "      <td>0</td>\n",
       "      <td>0</td>\n",
       "      <td>0</td>\n",
       "      <td>...</td>\n",
       "      <td>0</td>\n",
       "      <td>0</td>\n",
       "      <td>0</td>\n",
       "      <td>0</td>\n",
       "      <td>0</td>\n",
       "      <td>0</td>\n",
       "      <td>0</td>\n",
       "      <td>0</td>\n",
       "      <td>0</td>\n",
       "      <td>0</td>\n",
       "    </tr>\n",
       "    <tr>\n",
       "      <th>Shadow Word: Death</th>\n",
       "      <td>0</td>\n",
       "      <td>0</td>\n",
       "      <td>0</td>\n",
       "      <td>0</td>\n",
       "      <td>0</td>\n",
       "      <td>0</td>\n",
       "      <td>0</td>\n",
       "      <td>0</td>\n",
       "      <td>0</td>\n",
       "      <td>0</td>\n",
       "      <td>...</td>\n",
       "      <td>0</td>\n",
       "      <td>0</td>\n",
       "      <td>0</td>\n",
       "      <td>0</td>\n",
       "      <td>0</td>\n",
       "      <td>0</td>\n",
       "      <td>0</td>\n",
       "      <td>0</td>\n",
       "      <td>0</td>\n",
       "      <td>0</td>\n",
       "    </tr>\n",
       "    <tr>\n",
       "      <th>Silent Knight</th>\n",
       "      <td>0</td>\n",
       "      <td>0</td>\n",
       "      <td>0</td>\n",
       "      <td>0</td>\n",
       "      <td>0</td>\n",
       "      <td>0</td>\n",
       "      <td>0</td>\n",
       "      <td>0</td>\n",
       "      <td>0</td>\n",
       "      <td>0</td>\n",
       "      <td>...</td>\n",
       "      <td>0</td>\n",
       "      <td>0</td>\n",
       "      <td>0</td>\n",
       "      <td>0</td>\n",
       "      <td>0</td>\n",
       "      <td>0</td>\n",
       "      <td>0</td>\n",
       "      <td>0</td>\n",
       "      <td>0</td>\n",
       "      <td>0</td>\n",
       "    </tr>\n",
       "    <tr>\n",
       "      <th>Unlicensed Apothecary</th>\n",
       "      <td>0</td>\n",
       "      <td>0</td>\n",
       "      <td>0</td>\n",
       "      <td>0</td>\n",
       "      <td>0</td>\n",
       "      <td>0</td>\n",
       "      <td>0</td>\n",
       "      <td>0</td>\n",
       "      <td>0</td>\n",
       "      <td>0</td>\n",
       "      <td>...</td>\n",
       "      <td>0</td>\n",
       "      <td>0</td>\n",
       "      <td>0</td>\n",
       "      <td>0</td>\n",
       "      <td>0</td>\n",
       "      <td>0</td>\n",
       "      <td>0</td>\n",
       "      <td>0</td>\n",
       "      <td>0</td>\n",
       "      <td>0</td>\n",
       "    </tr>\n",
       "    <tr>\n",
       "      <th>Shadow Madness</th>\n",
       "      <td>0</td>\n",
       "      <td>0</td>\n",
       "      <td>0</td>\n",
       "      <td>0</td>\n",
       "      <td>0</td>\n",
       "      <td>0</td>\n",
       "      <td>0</td>\n",
       "      <td>0</td>\n",
       "      <td>0</td>\n",
       "      <td>0</td>\n",
       "      <td>...</td>\n",
       "      <td>0</td>\n",
       "      <td>0</td>\n",
       "      <td>0</td>\n",
       "      <td>0</td>\n",
       "      <td>0</td>\n",
       "      <td>0</td>\n",
       "      <td>0</td>\n",
       "      <td>0</td>\n",
       "      <td>0</td>\n",
       "      <td>0</td>\n",
       "    </tr>\n",
       "  </tbody>\n",
       "</table>\n",
       "<p>5 rows × 1296 columns</p>\n",
       "</div>"
      ],
      "text/plain": [
       "                       137  1690  2414  3527  3992  4592  4965  5269  5327  \\\n",
       "name                                                                         \n",
       "Oasis Snapjaw            0     0     0     0     0     0     0     0     0   \n",
       "Shadow Word: Death       0     0     0     0     0     0     0     0     0   \n",
       "Silent Knight            0     0     0     0     0     0     0     0     0   \n",
       "Unlicensed Apothecary    0     0     0     0     0     0     0     0     0   \n",
       "Shadow Madness           0     0     0     0     0     0     0     0     0   \n",
       "\n",
       "                       5358  ...  325935  325937  326209  330402  331034  \\\n",
       "name                         ...                                           \n",
       "Oasis Snapjaw             0  ...       0       0       0       0       0   \n",
       "Shadow Word: Death        0  ...       0       0       0       0       0   \n",
       "Silent Knight             0  ...       0       0       0       0       0   \n",
       "Unlicensed Apothecary     0  ...       0       0       0       0       0   \n",
       "Shadow Madness            0  ...       0       0       0       0       0   \n",
       "\n",
       "                       334031  335601  336843  345826  346203  \n",
       "name                                                           \n",
       "Oasis Snapjaw               0       0       0       0       0  \n",
       "Shadow Word: Death          0       0       0       0       0  \n",
       "Silent Knight               0       0       0       0       0  \n",
       "Unlicensed Apothecary       0       0       0       0       0  \n",
       "Shadow Madness              0       0       0       0       0  \n",
       "\n",
       "[5 rows x 1296 columns]"
      ]
     },
     "execution_count": 2,
     "metadata": {},
     "output_type": "execute_result"
    }
   ],
   "source": [
    "# reading the csv file, using the first column as index\n",
    "cards_features = pd.read_csv(\"./cards-decks.csv\", index_col=0)\n",
    "cards_features.head()"
   ]
  },
  {
   "cell_type": "code",
   "execution_count": 3,
   "metadata": {},
   "outputs": [],
   "source": [
    "# saving the dataframe as numpy array\n",
    "cards_features_array = np.array(cards_features)"
   ]
  },
  {
   "cell_type": "markdown",
   "metadata": {},
   "source": [
    "## Performing PCA (2 dimensions)\n",
    "Reducing the dimensions of the data from 1296 dimensions to 2 most important arbitary dimensions."
   ]
  },
  {
   "cell_type": "code",
   "execution_count": 4,
   "metadata": {},
   "outputs": [
    {
     "name": "stdout",
     "output_type": "stream",
     "text": [
      "Variance explained by the top 2 axes: 0.071, 0.054\n"
     ]
    }
   ],
   "source": [
    "pca = PCA(n_components=2)\n",
    "cards_features_array_pca = pca.fit_transform(cards_features_array)\n",
    "\n",
    "print(\"Variance explained by the top 2 axes: %0.3f, %0.3f\" % tuple(pca.explained_variance_ratio_))"
   ]
  },
  {
   "cell_type": "markdown",
   "metadata": {},
   "source": [
    "The two axes calcualted by PCA are able to explain 7.1% andd 5.4% of the variace."
   ]
  },
  {
   "cell_type": "code",
   "execution_count": 5,
   "metadata": {},
   "outputs": [
    {
     "data": {
      "text/html": [
       "<div>\n",
       "<style scoped>\n",
       "    .dataframe tbody tr th:only-of-type {\n",
       "        vertical-align: middle;\n",
       "    }\n",
       "\n",
       "    .dataframe tbody tr th {\n",
       "        vertical-align: top;\n",
       "    }\n",
       "\n",
       "    .dataframe thead th {\n",
       "        text-align: right;\n",
       "    }\n",
       "</style>\n",
       "<table border=\"1\" class=\"dataframe\">\n",
       "  <thead>\n",
       "    <tr style=\"text-align: right;\">\n",
       "      <th></th>\n",
       "      <th>component 1</th>\n",
       "      <th>component 2</th>\n",
       "    </tr>\n",
       "    <tr>\n",
       "      <th>name</th>\n",
       "      <th></th>\n",
       "      <th></th>\n",
       "    </tr>\n",
       "  </thead>\n",
       "  <tbody>\n",
       "    <tr>\n",
       "      <th>Oasis Snapjaw</th>\n",
       "      <td>-0.874302</td>\n",
       "      <td>-0.594298</td>\n",
       "    </tr>\n",
       "    <tr>\n",
       "      <th>Shadow Word: Death</th>\n",
       "      <td>0.549870</td>\n",
       "      <td>2.103233</td>\n",
       "    </tr>\n",
       "    <tr>\n",
       "      <th>Silent Knight</th>\n",
       "      <td>-0.652881</td>\n",
       "      <td>-0.541119</td>\n",
       "    </tr>\n",
       "    <tr>\n",
       "      <th>Unlicensed Apothecary</th>\n",
       "      <td>-0.829450</td>\n",
       "      <td>-0.517630</td>\n",
       "    </tr>\n",
       "    <tr>\n",
       "      <th>Shadow Madness</th>\n",
       "      <td>-0.797093</td>\n",
       "      <td>-0.321547</td>\n",
       "    </tr>\n",
       "  </tbody>\n",
       "</table>\n",
       "</div>"
      ],
      "text/plain": [
       "                       component 1  component 2\n",
       "name                                           \n",
       "Oasis Snapjaw            -0.874302    -0.594298\n",
       "Shadow Word: Death        0.549870     2.103233\n",
       "Silent Knight            -0.652881    -0.541119\n",
       "Unlicensed Apothecary    -0.829450    -0.517630\n",
       "Shadow Madness           -0.797093    -0.321547"
      ]
     },
     "execution_count": 5,
     "metadata": {},
     "output_type": "execute_result"
    }
   ],
   "source": [
    "cards_features_array_pca_df = pd.DataFrame(cards_features_array_pca, columns = ['component 1', 'component 2'], index=cards_features.index)\n",
    "cards_features_array_pca_df.head()"
   ]
  },
  {
   "cell_type": "markdown",
   "metadata": {},
   "source": [
    "## Performing TSNE (2 dimensions)\n",
    "Using TSNE to reduce the dimension of the dataset to 2 dimensions."
   ]
  },
  {
   "cell_type": "code",
   "execution_count": 6,
   "metadata": {},
   "outputs": [],
   "source": [
    "cards_features_array_tsne = TSNE(n_components=2).fit_transform(cards_features_array)"
   ]
  },
  {
   "cell_type": "code",
   "execution_count": 9,
   "metadata": {},
   "outputs": [
    {
     "data": {
      "text/html": [
       "<div>\n",
       "<style scoped>\n",
       "    .dataframe tbody tr th:only-of-type {\n",
       "        vertical-align: middle;\n",
       "    }\n",
       "\n",
       "    .dataframe tbody tr th {\n",
       "        vertical-align: top;\n",
       "    }\n",
       "\n",
       "    .dataframe thead th {\n",
       "        text-align: right;\n",
       "    }\n",
       "</style>\n",
       "<table border=\"1\" class=\"dataframe\">\n",
       "  <thead>\n",
       "    <tr style=\"text-align: right;\">\n",
       "      <th></th>\n",
       "      <th>component 1</th>\n",
       "      <th>component 2</th>\n",
       "    </tr>\n",
       "    <tr>\n",
       "      <th>name</th>\n",
       "      <th></th>\n",
       "      <th></th>\n",
       "    </tr>\n",
       "  </thead>\n",
       "  <tbody>\n",
       "    <tr>\n",
       "      <th>Oasis Snapjaw</th>\n",
       "      <td>8.613791</td>\n",
       "      <td>16.201551</td>\n",
       "    </tr>\n",
       "    <tr>\n",
       "      <th>Shadow Word: Death</th>\n",
       "      <td>-26.671167</td>\n",
       "      <td>5.791445</td>\n",
       "    </tr>\n",
       "    <tr>\n",
       "      <th>Silent Knight</th>\n",
       "      <td>14.600719</td>\n",
       "      <td>-16.859428</td>\n",
       "    </tr>\n",
       "    <tr>\n",
       "      <th>Unlicensed Apothecary</th>\n",
       "      <td>-33.014355</td>\n",
       "      <td>-5.280866</td>\n",
       "    </tr>\n",
       "    <tr>\n",
       "      <th>Shadow Madness</th>\n",
       "      <td>7.319180</td>\n",
       "      <td>3.029221</td>\n",
       "    </tr>\n",
       "  </tbody>\n",
       "</table>\n",
       "</div>"
      ],
      "text/plain": [
       "                       component 1  component 2\n",
       "name                                           \n",
       "Oasis Snapjaw             8.613791    16.201551\n",
       "Shadow Word: Death      -26.671167     5.791445\n",
       "Silent Knight            14.600719   -16.859428\n",
       "Unlicensed Apothecary   -33.014355    -5.280866\n",
       "Shadow Madness            7.319180     3.029221"
      ]
     },
     "execution_count": 9,
     "metadata": {},
     "output_type": "execute_result"
    }
   ],
   "source": [
    "cards_features_array_tsne_df = pd.DataFrame(cards_features_array_tsne, columns = ['component 1', 'component 2'], index=cards_features.index)\n",
    "cards_features_array_tsne_df.head()"
   ]
  },
  {
   "cell_type": "markdown",
   "metadata": {},
   "source": [
    "## Plotting the PCA/TSNE data"
   ]
  },
  {
   "cell_type": "code",
   "execution_count": 17,
   "metadata": {},
   "outputs": [
    {
     "data": {
      "image/png": "[encoded data removed]",
      "text/plain": [
       "<Figure size 720x1440 with 2 Axes>"
      ]
     },
     "metadata": {
      "needs_background": "light"
     },
     "output_type": "display_data"
    }
   ],
   "source": [
    "# plotting a simple scatterplot without and color partitining.\n",
    "fig = plt.figure(figsize=(10, 20))\n",
    "\n",
    "ax1 = plt.subplot(2, 1, 1)\n",
    "ax1.set_xlabel('Principal Component 1', fontsize=15)\n",
    "ax1.set_ylabel('Principal Component 2', fontsize=15)\n",
    "ax1.set_title('2-component PCA', fontsize=20)\n",
    "ax1.scatter(cards_features_array_pca_df['component 1'], cards_features_array_pca_df['component 2'])\n",
    "ax1.grid()\n",
    "ax1.set(aspect='equal')\n",
    "\n",
    "ax2 = plt.subplot(2, 1, 2)\n",
    "ax2.set_xlabel('TSNE Component 1', fontsize=15)\n",
    "ax2.set_ylabel('TSNE Component 2', fontsize=15)\n",
    "ax2.set_title('2-component TSNE', fontsize=20)\n",
    "ax2.scatter(cards_features_array_tsne_df['component 1'], cards_features_array_tsne_df['component 2'])\n",
    "ax2.grid()\n",
    "ax2.set(aspect='equal')\n",
    "\n",
    "plt.savefig(\"cluster-nopartition.jpg\");"
   ]
  },
  {
   "cell_type": "markdown",
   "metadata": {},
   "source": [
    "### Discussion\n",
    "Both plots show one major cluster. Given this, some partitioning is needed to further make sense of the cards distribution."
   ]
  },
  {
   "cell_type": "code",
   "execution_count": null,
   "metadata": {},
   "outputs": [],
   "source": []
  }
 ],
 "metadata": {
  "kernelspec": {
   "display_name": "Python 3",
   "language": "python",
   "name": "python3"
  },
  "language_info": {
   "codemirror_mode": {
    "name": "ipython",
    "version": 3
   },
   "file_extension": ".py",
   "mimetype": "text/x-python",
   "name": "python",
   "nbconvert_exporter": "python",
   "pygments_lexer": "ipython3",
   "version": "3.6.7"
  }
 },
 "nbformat": 4,
 "nbformat_minor": 2
}
