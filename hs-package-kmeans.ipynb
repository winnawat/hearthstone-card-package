{
 "cells": [
  {
   "cell_type": "markdown",
   "metadata": {},
   "source": [
    "# Hearthstone Cluster Project - KMeans Clustering\n",
    "This project aims to use clustering algorithms on the Hearthstone decks data from Hearthpwn. In this notebook, the clustering algorithm of choice is KMeans Clustering.  \n",
    "The data is obtained from history of hearthstone hosted on Kaggle [here](https://www.kaggle.com/romainvincent/history-of-hearthstone)  \n",
    "History of Hearthstone dataset is scraped by the Kaggle user \"romainvincent\" roughly two years ago."
   ]
  },
  {
   "cell_type": "markdown",
   "metadata": {},
   "source": [
    "## Introduction and background\n",
    "Hearthstone is an online trading card game where players build a deck of 30 cards and face each other. The quality of the deck heavily depends on the synergy of the cards included within the deck. Various classes and synergies availble at the players' disposal gives rise to numerous deck archetypes. These archetypes are essentially different types of decks with different win conditions or the gameplan to defeat the opponent. The cards that synergize with each other form a group of cards that if they were to be included in a deck, they have to be included togehter. This is generally known as a **pcakage**.  \n",
    "This notebook aims to explore and surface these synergies through the decklist dataset."
   ]
  },
  {
   "cell_type": "markdown",
   "metadata": {},
   "source": [
    "## Approach and methodology\n",
    "Each row of the data is a deck that has been posted on hearthpwn. For each deck, there are 30 cards and their card ID (\"dbfId\") are recorded under the columns \"card_0\" to \"card_29\". First, the 30 card columns have to be combined into one single column with all the 30 IDs of the cards within a deck. Then, a column is created for each card. If a deck contains a particular card, the value under the column of that particular card will the count of the copies of the card within the deck.  \n",
    "For example, if deck number 10 has 2 copies of card 111, the value under the column \"111\" for deck 10 will be 2."
   ]
  },
  {
   "cell_type": "markdown",
   "metadata": {},
   "source": [
    "### Importing packages"
   ]
  },
  {
   "cell_type": "code",
   "execution_count": 138,
   "metadata": {},
   "outputs": [],
   "source": [
    "from collections import Counter\n",
    "import json\n",
    "import matplotlib.pyplot as plt\n",
    "import numpy as np\n",
    "import pandas as pd\n",
    "import seaborn as sns"
   ]
  },
  {
   "cell_type": "markdown",
   "metadata": {},
   "source": [
    "## Loading data"
   ]
  },
  {
   "cell_type": "code",
   "execution_count": 139,
   "metadata": {},
   "outputs": [],
   "source": [
    "refs = json.load(open(\"./history-of-hearthstone/refs.json\"))\n",
    "decks_data = pd.read_csv(\"./history-of-hearthstone/data.csv\")"
   ]
  },
  {
   "cell_type": "code",
   "execution_count": 140,
   "metadata": {},
   "outputs": [
    {
     "data": {
      "text/html": [
       "<div>\n",
       "<style scoped>\n",
       "    .dataframe tbody tr th:only-of-type {\n",
       "        vertical-align: middle;\n",
       "    }\n",
       "\n",
       "    .dataframe tbody tr th {\n",
       "        vertical-align: top;\n",
       "    }\n",
       "\n",
       "    .dataframe thead th {\n",
       "        text-align: right;\n",
       "    }\n",
       "</style>\n",
       "<table border=\"1\" class=\"dataframe\">\n",
       "  <thead>\n",
       "    <tr style=\"text-align: right;\">\n",
       "      <th></th>\n",
       "      <th>craft_cost</th>\n",
       "      <th>date</th>\n",
       "      <th>deck_archetype</th>\n",
       "      <th>deck_class</th>\n",
       "      <th>deck_format</th>\n",
       "      <th>deck_id</th>\n",
       "      <th>deck_set</th>\n",
       "      <th>deck_type</th>\n",
       "      <th>rating</th>\n",
       "      <th>title</th>\n",
       "      <th>...</th>\n",
       "      <th>card_20</th>\n",
       "      <th>card_21</th>\n",
       "      <th>card_22</th>\n",
       "      <th>card_23</th>\n",
       "      <th>card_24</th>\n",
       "      <th>card_25</th>\n",
       "      <th>card_26</th>\n",
       "      <th>card_27</th>\n",
       "      <th>card_28</th>\n",
       "      <th>card_29</th>\n",
       "    </tr>\n",
       "  </thead>\n",
       "  <tbody>\n",
       "    <tr>\n",
       "      <th>0</th>\n",
       "      <td>9740</td>\n",
       "      <td>2016-02-19</td>\n",
       "      <td>Unknown</td>\n",
       "      <td>Priest</td>\n",
       "      <td>W</td>\n",
       "      <td>433004</td>\n",
       "      <td>Explorers</td>\n",
       "      <td>Tavern Brawl</td>\n",
       "      <td>1</td>\n",
       "      <td>Reno Priest</td>\n",
       "      <td>...</td>\n",
       "      <td>374</td>\n",
       "      <td>2280</td>\n",
       "      <td>2511</td>\n",
       "      <td>2555</td>\n",
       "      <td>2566</td>\n",
       "      <td>2582</td>\n",
       "      <td>2683</td>\n",
       "      <td>2736</td>\n",
       "      <td>2568</td>\n",
       "      <td>2883</td>\n",
       "    </tr>\n",
       "    <tr>\n",
       "      <th>1</th>\n",
       "      <td>9840</td>\n",
       "      <td>2016-02-19</td>\n",
       "      <td>Unknown</td>\n",
       "      <td>Warrior</td>\n",
       "      <td>W</td>\n",
       "      <td>433003</td>\n",
       "      <td>Explorers</td>\n",
       "      <td>Ranked Deck</td>\n",
       "      <td>1</td>\n",
       "      <td>RoosterWarrior</td>\n",
       "      <td>...</td>\n",
       "      <td>1781</td>\n",
       "      <td>1781</td>\n",
       "      <td>2021</td>\n",
       "      <td>2021</td>\n",
       "      <td>2064</td>\n",
       "      <td>2064</td>\n",
       "      <td>2078</td>\n",
       "      <td>2510</td>\n",
       "      <td>2729</td>\n",
       "      <td>2736</td>\n",
       "    </tr>\n",
       "    <tr>\n",
       "      <th>2</th>\n",
       "      <td>2600</td>\n",
       "      <td>2016-02-19</td>\n",
       "      <td>Unknown</td>\n",
       "      <td>Mage</td>\n",
       "      <td>W</td>\n",
       "      <td>433002</td>\n",
       "      <td>Explorers</td>\n",
       "      <td>Theorycraft</td>\n",
       "      <td>1</td>\n",
       "      <td>Annoying</td>\n",
       "      <td>...</td>\n",
       "      <td>1793</td>\n",
       "      <td>1801</td>\n",
       "      <td>1801</td>\n",
       "      <td>2037</td>\n",
       "      <td>2037</td>\n",
       "      <td>2064</td>\n",
       "      <td>2064</td>\n",
       "      <td>2078</td>\n",
       "      <td>38710</td>\n",
       "      <td>38710</td>\n",
       "    </tr>\n",
       "    <tr>\n",
       "      <th>3</th>\n",
       "      <td>15600</td>\n",
       "      <td>2016-02-19</td>\n",
       "      <td>Unknown</td>\n",
       "      <td>Warrior</td>\n",
       "      <td>W</td>\n",
       "      <td>433001</td>\n",
       "      <td>Explorers</td>\n",
       "      <td>None</td>\n",
       "      <td>0</td>\n",
       "      <td>Standart pay to win warrior</td>\n",
       "      <td>...</td>\n",
       "      <td>1657</td>\n",
       "      <td>1721</td>\n",
       "      <td>2018</td>\n",
       "      <td>2296</td>\n",
       "      <td>2262</td>\n",
       "      <td>336</td>\n",
       "      <td>2729</td>\n",
       "      <td>2729</td>\n",
       "      <td>2736</td>\n",
       "      <td>2760</td>\n",
       "    </tr>\n",
       "    <tr>\n",
       "      <th>4</th>\n",
       "      <td>7700</td>\n",
       "      <td>2016-02-19</td>\n",
       "      <td>Unknown</td>\n",
       "      <td>Paladin</td>\n",
       "      <td>W</td>\n",
       "      <td>432997</td>\n",
       "      <td>Explorers</td>\n",
       "      <td>Ranked Deck</td>\n",
       "      <td>1</td>\n",
       "      <td>Palamix</td>\n",
       "      <td>...</td>\n",
       "      <td>2027</td>\n",
       "      <td>2029</td>\n",
       "      <td>2029</td>\n",
       "      <td>2064</td>\n",
       "      <td>2078</td>\n",
       "      <td>374</td>\n",
       "      <td>2717</td>\n",
       "      <td>2717</td>\n",
       "      <td>2889</td>\n",
       "      <td>2889</td>\n",
       "    </tr>\n",
       "  </tbody>\n",
       "</table>\n",
       "<p>5 rows × 41 columns</p>\n",
       "</div>"
      ],
      "text/plain": [
       "   craft_cost        date deck_archetype deck_class deck_format  deck_id  \\\n",
       "0        9740  2016-02-19        Unknown     Priest           W   433004   \n",
       "1        9840  2016-02-19        Unknown    Warrior           W   433003   \n",
       "2        2600  2016-02-19        Unknown       Mage           W   433002   \n",
       "3       15600  2016-02-19        Unknown    Warrior           W   433001   \n",
       "4        7700  2016-02-19        Unknown    Paladin           W   432997   \n",
       "\n",
       "    deck_set     deck_type  rating                        title  ... card_20  \\\n",
       "0  Explorers  Tavern Brawl       1                  Reno Priest  ...     374   \n",
       "1  Explorers   Ranked Deck       1               RoosterWarrior  ...    1781   \n",
       "2  Explorers   Theorycraft       1                     Annoying  ...    1793   \n",
       "3  Explorers          None       0  Standart pay to win warrior  ...    1657   \n",
       "4  Explorers   Ranked Deck       1                      Palamix  ...    2027   \n",
       "\n",
       "   card_21  card_22  card_23  card_24  card_25  card_26  card_27  card_28  \\\n",
       "0     2280     2511     2555     2566     2582     2683     2736     2568   \n",
       "1     1781     2021     2021     2064     2064     2078     2510     2729   \n",
       "2     1801     1801     2037     2037     2064     2064     2078    38710   \n",
       "3     1721     2018     2296     2262      336     2729     2729     2736   \n",
       "4     2029     2029     2064     2078      374     2717     2717     2889   \n",
       "\n",
       "   card_29  \n",
       "0     2883  \n",
       "1     2736  \n",
       "2    38710  \n",
       "3     2760  \n",
       "4     2889  \n",
       "\n",
       "[5 rows x 41 columns]"
      ]
     },
     "execution_count": 140,
     "metadata": {},
     "output_type": "execute_result"
    }
   ],
   "source": [
    "# taking a look at the head\n",
    "decks_data.head()"
   ]
  },
  {
   "cell_type": "markdown",
   "metadata": {},
   "source": [
    "## Data cleaning"
   ]
  },
  {
   "cell_type": "markdown",
   "metadata": {},
   "source": [
    "### Data types of the columns\n",
    "Column card_0 to card_29 are of the same type - int."
   ]
  },
  {
   "cell_type": "code",
   "execution_count": 141,
   "metadata": {},
   "outputs": [
    {
     "data": {
      "text/plain": [
       "date              object\n",
       "deck_archetype    object\n",
       "deck_class        object\n",
       "deck_format       object\n",
       "deck_id            int64\n",
       "deck_set          object\n",
       "deck_type         object\n",
       "rating             int64\n",
       "title             object\n",
       "user              object\n",
       "card_0             int64\n",
       "card_1             int64\n",
       "dtype: object"
      ]
     },
     "execution_count": 141,
     "metadata": {},
     "output_type": "execute_result"
    }
   ],
   "source": [
    "decks_data.dtypes[1:13]"
   ]
  },
  {
   "cell_type": "markdown",
   "metadata": {},
   "source": [
    "The column \"date\" is not of the correct type. Changing the column datatype to datetime."
   ]
  },
  {
   "cell_type": "code",
   "execution_count": 142,
   "metadata": {},
   "outputs": [],
   "source": [
    "decks_data['date'] = pd.to_datetime(decks_data['date'])"
   ]
  },
  {
   "cell_type": "code",
   "execution_count": 143,
   "metadata": {},
   "outputs": [
    {
     "data": {
      "text/plain": [
       "date              datetime64[ns]\n",
       "deck_archetype            object\n",
       "deck_class                object\n",
       "deck_format               object\n",
       "deck_id                    int64\n",
       "deck_set                  object\n",
       "deck_type                 object\n",
       "rating                     int64\n",
       "title                     object\n",
       "user                      object\n",
       "card_0                     int64\n",
       "card_1                     int64\n",
       "dtype: object"
      ]
     },
     "execution_count": 143,
     "metadata": {},
     "output_type": "execute_result"
    }
   ],
   "source": [
    "decks_data.dtypes[1:13]"
   ]
  },
  {
   "cell_type": "markdown",
   "metadata": {},
   "source": [
    "### Replacing nulls under \"title\" with a dummy deck name"
   ]
  },
  {
   "cell_type": "code",
   "execution_count": 144,
   "metadata": {},
   "outputs": [
    {
     "data": {
      "text/plain": [
       "title    8\n",
       "dtype: int64"
      ]
     },
     "execution_count": 144,
     "metadata": {},
     "output_type": "execute_result"
    }
   ],
   "source": [
    "decks_data.isnull().sum()[decks_data.isnull().sum() != 0]"
   ]
  },
  {
   "cell_type": "markdown",
   "metadata": {},
   "source": [
    "There are 8 decks without title. Filling the null titles with a placeholder name"
   ]
  },
  {
   "cell_type": "code",
   "execution_count": 145,
   "metadata": {},
   "outputs": [],
   "source": [
    "decks_data = decks_data.fillna('some deck')"
   ]
  },
  {
   "cell_type": "markdown",
   "metadata": {},
   "source": [
    "### Exploring the number of decks by type and format"
   ]
  },
  {
   "cell_type": "markdown",
   "metadata": {},
   "source": [
    "#### Total number of decks in both Wild and Standard format"
   ]
  },
  {
   "cell_type": "code",
   "execution_count": 146,
   "metadata": {},
   "outputs": [
    {
     "name": "stdout",
     "output_type": "stream",
     "text": [
      "Number of decks : 346232\n"
     ]
    }
   ],
   "source": [
    "decks = len(decks_data)\n",
    "print ('Number of decks :', decks)"
   ]
  },
  {
   "cell_type": "markdown",
   "metadata": {},
   "source": [
    "#### Total wild decks"
   ]
  },
  {
   "cell_type": "code",
   "execution_count": 147,
   "metadata": {},
   "outputs": [
    {
     "name": "stdout",
     "output_type": "stream",
     "text": [
      "Wild decks: 175446\n"
     ]
    }
   ],
   "source": [
    "wild = len(decks_data[decks_data['deck_format'] == 'W'])\n",
    "print ('Wild decks:', wild)"
   ]
  },
  {
   "cell_type": "markdown",
   "metadata": {},
   "source": [
    "#### Count of all decks by type"
   ]
  },
  {
   "cell_type": "code",
   "execution_count": 148,
   "metadata": {},
   "outputs": [
    {
     "data": {
      "text/plain": [
       "Ranked Deck      202375\n",
       "None              91058\n",
       "Theorycraft       19688\n",
       "Arena             14095\n",
       "PvE Adventure      9059\n",
       "Tavern Brawl       6360\n",
       "Tournament         3597\n",
       "Name: deck_type, dtype: int64"
      ]
     },
     "execution_count": 148,
     "metadata": {},
     "output_type": "execute_result"
    }
   ],
   "source": [
    "decks_data['deck_type'].value_counts()"
   ]
  },
  {
   "cell_type": "markdown",
   "metadata": {},
   "source": [
    "#### Count of _standard_ decks by type"
   ]
  },
  {
   "cell_type": "code",
   "execution_count": 149,
   "metadata": {},
   "outputs": [
    {
     "data": {
      "text/plain": [
       "Ranked Deck      101431\n",
       "None              47837\n",
       "Theorycraft        9644\n",
       "Arena              7233\n",
       "Tournament         2460\n",
       "PvE Adventure      1398\n",
       "Tavern Brawl        783\n",
       "Name: deck_type, dtype: int64"
      ]
     },
     "execution_count": 149,
     "metadata": {},
     "output_type": "execute_result"
    }
   ],
   "source": [
    "decks_data[decks_data['deck_format'] != 'W']['deck_type'].value_counts()"
   ]
  },
  {
   "cell_type": "markdown",
   "metadata": {},
   "source": [
    "#### Choosing only _standard_ ranked and tournament decks."
   ]
  },
  {
   "cell_type": "code",
   "execution_count": 150,
   "metadata": {},
   "outputs": [
    {
     "data": {
      "text/plain": [
       "Ranked Deck    101431\n",
       "Tournament       2460\n",
       "Name: deck_type, dtype: int64"
      ]
     },
     "execution_count": 150,
     "metadata": {},
     "output_type": "execute_result"
    }
   ],
   "source": [
    "standard_decks = decks_data[decks_data['deck_format'] == 'S']\n",
    "standard_decks = standard_decks[standard_decks['deck_type'].isin(['Ranked Deck', 'Tournament'])]\n",
    "standard_decks['deck_type'].value_counts()"
   ]
  },
  {
   "cell_type": "markdown",
   "metadata": {},
   "source": [
    "#### Histogram of the rating"
   ]
  },
  {
   "cell_type": "code",
   "execution_count": 151,
   "metadata": {},
   "outputs": [
    {
     "data": {
      "image/png": "[encoded data removed]",
      "text/plain": [
       "<Figure size 1440x360 with 1 Axes>"
      ]
     },
     "metadata": {
      "needs_background": "light"
     },
     "output_type": "display_data"
    }
   ],
   "source": [
    "plt.figure(figsize=(20,5))\n",
    "plt.hist(standard_decks['rating'], bins=60)\n",
    "plt.title(\"Histogram of deck ratings\")\n",
    "plt.ylabel(\"Count\")\n",
    "plt.xlabel(\"rating\")\n",
    "plt.grid(True)\n",
    "plt.show()"
   ]
  },
  {
   "cell_type": "markdown",
   "metadata": {},
   "source": [
    "Decks with very low rating absolutely dominates the population. These decks are unlikely to be representative of the good decks that utilize package synergy too. As such, decks with low ratings are to be filtered.  "
   ]
  },
  {
   "cell_type": "markdown",
   "metadata": {},
   "source": [
    "#### Examining the decks with low rating\n",
    "(rating between 0-30)"
   ]
  },
  {
   "cell_type": "code",
   "execution_count": 152,
   "metadata": {},
   "outputs": [
    {
     "name": "stdout",
     "output_type": "stream",
     "text": [
      "Ranked Deck    100472\n",
      "Tournament       2431\n",
      "Name: deck_type, dtype: int64\n"
     ]
    },
    {
     "data": {
      "image/png": "[encoded data removed]",
      "text/plain": [
       "<Figure size 1296x360 with 2 Axes>"
      ]
     },
     "metadata": {
      "needs_background": "light"
     },
     "output_type": "display_data"
    }
   ],
   "source": [
    "low_ratings = standard_decks[standard_decks['rating'] < 31]\n",
    "print(low_ratings['deck_type'].value_counts())\n",
    "\n",
    "f, (ax1, ax2) = plt.subplots(1, 2, sharey=False, figsize=(18, 5))\n",
    "ax1.hist(low_ratings['rating'], bins=np.arange(31)-0.25, width=0.5)\n",
    "ax1.grid()\n",
    "ax1.set_xticks(range(0,31))\n",
    "ax1.set_title(\"Decks with rating 0-30\", fontsize=20)\n",
    "ax1.set_xlabel(\"Deck ratings\", fontsize=16)\n",
    "ax1.set_ylabel(\"Deck counts\", fontsize=16);\n",
    "\n",
    "ax2.hist(low_ratings[low_ratings['rating'] > 3]['rating'], bins=np.arange(4,31)-0.25, width=0.5)\n",
    "ax2.grid()\n",
    "ax2.set_xticks(range(4,31))\n",
    "ax2.set_title(\"Decks with rating 4-30\", fontsize=20)\n",
    "ax2.set_xlabel(\"Deck ratings\", fontsize=16)\n",
    "ax2.set_ylabel(\"Deck counts\", fontsize=16);"
   ]
  },
  {
   "cell_type": "markdown",
   "metadata": {},
   "source": [
    "The population of decks appear to be less skewed at rating value > 20. Hence, only decks with rating > 20 are considered in this study.  \n",
    "Looking at rated decks' columns."
   ]
  },
  {
   "cell_type": "markdown",
   "metadata": {},
   "source": [
    "## Feature Engineering"
   ]
  },
  {
   "cell_type": "markdown",
   "metadata": {},
   "source": [
    "### Creating the \"card\" columns\n",
    "First, the card IDs from card_0 to card_29 need to be combined into one space separated sentence to later generate the card counts for each card in a deck."
   ]
  },
  {
   "cell_type": "code",
   "execution_count": 153,
   "metadata": {},
   "outputs": [
    {
     "data": {
      "text/plain": [
       "Index(['craft_cost', 'date', 'deck_archetype', 'deck_class', 'deck_format',\n",
       "       'deck_id', 'deck_set', 'deck_type', 'rating', 'title', 'user', 'card_0',\n",
       "       'card_1', 'card_2', 'card_3', 'card_4', 'card_5', 'card_6', 'card_7',\n",
       "       'card_8', 'card_9', 'card_10', 'card_11', 'card_12', 'card_13',\n",
       "       'card_14', 'card_15', 'card_16', 'card_17', 'card_18', 'card_19',\n",
       "       'card_20', 'card_21', 'card_22', 'card_23', 'card_24', 'card_25',\n",
       "       'card_26', 'card_27', 'card_28', 'card_29'],\n",
       "      dtype='object')"
      ]
     },
     "execution_count": 153,
     "metadata": {},
     "output_type": "execute_result"
    }
   ],
   "source": [
    "rated_decks = standard_decks[standard_decks['rating'] > 20].copy()\n",
    "rated_decks.columns"
   ]
  },
  {
   "cell_type": "code",
   "execution_count": 154,
   "metadata": {},
   "outputs": [],
   "source": [
    "# Adding the first card to the \"card\" column. The first card is card_0.\n",
    "rated_decks.loc[:, 'card'] = rated_decks.loc[:, 'card_0'].astype(int).astype(str)\n",
    "\n",
    "# for card_1 to card_29, concatenate the card ID to the existing 'card' column.\n",
    "for i in range(1,30):\n",
    "    colname = 'card_' + str(i)\n",
    "    rated_decks.loc[:, 'card'] = rated_decks.loc[:, 'card'] + ' ' + rated_decks[colname].astype(int).astype(str)"
   ]
  },
  {
   "cell_type": "code",
   "execution_count": 155,
   "metadata": {},
   "outputs": [
    {
     "data": {
      "text/plain": [
       "137     180 180 306 459 461 461 559 573 667 667 749 82...\n",
       "1690    64 64 95 137 137 254 254 734 825 825 1035 1124...\n",
       "2414    28 28 1007 1007 242 304 304 401 401 511 511 53...\n",
       "3527    296 296 437 437 519 699 141 1003 1003 1093 124...\n",
       "3992    36 64 64 95 95 137 137 254 254 503 503 825 825...\n",
       "Name: card, dtype: object"
      ]
     },
     "execution_count": 155,
     "metadata": {},
     "output_type": "execute_result"
    }
   ],
   "source": [
    "# checking the head of the dataframe\n",
    "rated_decks[\"card\"].head()"
   ]
  },
  {
   "cell_type": "code",
   "execution_count": 156,
   "metadata": {},
   "outputs": [
    {
     "data": {
      "text/html": [
       "<div>\n",
       "<style scoped>\n",
       "    .dataframe tbody tr th:only-of-type {\n",
       "        vertical-align: middle;\n",
       "    }\n",
       "\n",
       "    .dataframe tbody tr th {\n",
       "        vertical-align: top;\n",
       "    }\n",
       "\n",
       "    .dataframe thead th {\n",
       "        text-align: right;\n",
       "    }\n",
       "</style>\n",
       "<table border=\"1\" class=\"dataframe\">\n",
       "  <thead>\n",
       "    <tr style=\"text-align: right;\">\n",
       "      <th></th>\n",
       "      <th>craft_cost</th>\n",
       "      <th>date</th>\n",
       "      <th>deck_archetype</th>\n",
       "      <th>deck_class</th>\n",
       "      <th>deck_format</th>\n",
       "      <th>deck_id</th>\n",
       "      <th>deck_set</th>\n",
       "      <th>deck_type</th>\n",
       "      <th>rating</th>\n",
       "      <th>title</th>\n",
       "      <th>user</th>\n",
       "      <th>card</th>\n",
       "    </tr>\n",
       "  </thead>\n",
       "  <tbody>\n",
       "    <tr>\n",
       "      <th>137</th>\n",
       "      <td>8120</td>\n",
       "      <td>2016-02-19</td>\n",
       "      <td>Miracle Rogue</td>\n",
       "      <td>Rogue</td>\n",
       "      <td>S</td>\n",
       "      <td>432773</td>\n",
       "      <td>Explorers</td>\n",
       "      <td>Ranked Deck</td>\n",
       "      <td>303</td>\n",
       "      <td>Standard Miracle Rogue</td>\n",
       "      <td>Genelll</td>\n",
       "      <td>180 180 306 459 461 461 559 573 667 667 749 82...</td>\n",
       "    </tr>\n",
       "    <tr>\n",
       "      <th>1690</th>\n",
       "      <td>8180</td>\n",
       "      <td>2016-04-21</td>\n",
       "      <td>Ramp Druid</td>\n",
       "      <td>Druid</td>\n",
       "      <td>S</td>\n",
       "      <td>478188</td>\n",
       "      <td>Explorers</td>\n",
       "      <td>Ranked Deck</td>\n",
       "      <td>87</td>\n",
       "      <td>*Updated* C'Thun Ramp (Anti-Meta)</td>\n",
       "      <td>seksireturns</td>\n",
       "      <td>64 64 95 137 137 254 254 734 825 825 1035 1124...</td>\n",
       "    </tr>\n",
       "    <tr>\n",
       "      <th>2414</th>\n",
       "      <td>1680</td>\n",
       "      <td>2016-04-30</td>\n",
       "      <td>Unknown</td>\n",
       "      <td>Warrior</td>\n",
       "      <td>S</td>\n",
       "      <td>520990</td>\n",
       "      <td>Old Gods</td>\n",
       "      <td>Ranked Deck</td>\n",
       "      <td>66</td>\n",
       "      <td>Pirate Aggro Warrior (Top 500 Legend EU)</td>\n",
       "      <td>Robinette42</td>\n",
       "      <td>28 28 1007 1007 242 304 304 401 401 511 511 53...</td>\n",
       "    </tr>\n",
       "    <tr>\n",
       "      <th>3527</th>\n",
       "      <td>1860</td>\n",
       "      <td>2016-04-30</td>\n",
       "      <td>Midrange Hunter</td>\n",
       "      <td>Hunter</td>\n",
       "      <td>S</td>\n",
       "      <td>520585</td>\n",
       "      <td>Old Gods</td>\n",
       "      <td>Ranked Deck</td>\n",
       "      <td>512</td>\n",
       "      <td>[Spark] Beast Master (S25)</td>\n",
       "      <td>Sparkaz</td>\n",
       "      <td>296 296 437 437 519 699 141 1003 1003 1093 124...</td>\n",
       "    </tr>\n",
       "    <tr>\n",
       "      <th>3992</th>\n",
       "      <td>8260</td>\n",
       "      <td>2016-06-27</td>\n",
       "      <td>Yogg Druid</td>\n",
       "      <td>Druid</td>\n",
       "      <td>S</td>\n",
       "      <td>579170</td>\n",
       "      <td>Old Gods</td>\n",
       "      <td>Ranked Deck</td>\n",
       "      <td>25</td>\n",
       "      <td>[Rank 9 to Legend in 11 Hours] Yogg/Token Drui...</td>\n",
       "      <td>HS_KerneL</td>\n",
       "      <td>36 64 64 95 95 137 137 254 254 503 503 825 825...</td>\n",
       "    </tr>\n",
       "  </tbody>\n",
       "</table>\n",
       "</div>"
      ],
      "text/plain": [
       "      craft_cost       date   deck_archetype deck_class deck_format  deck_id  \\\n",
       "137         8120 2016-02-19    Miracle Rogue      Rogue           S   432773   \n",
       "1690        8180 2016-04-21       Ramp Druid      Druid           S   478188   \n",
       "2414        1680 2016-04-30          Unknown    Warrior           S   520990   \n",
       "3527        1860 2016-04-30  Midrange Hunter     Hunter           S   520585   \n",
       "3992        8260 2016-06-27       Yogg Druid      Druid           S   579170   \n",
       "\n",
       "       deck_set    deck_type  rating  \\\n",
       "137   Explorers  Ranked Deck     303   \n",
       "1690  Explorers  Ranked Deck      87   \n",
       "2414   Old Gods  Ranked Deck      66   \n",
       "3527   Old Gods  Ranked Deck     512   \n",
       "3992   Old Gods  Ranked Deck      25   \n",
       "\n",
       "                                                  title          user  \\\n",
       "137                              Standard Miracle Rogue       Genelll   \n",
       "1690                  *Updated* C'Thun Ramp (Anti-Meta)  seksireturns   \n",
       "2414           Pirate Aggro Warrior (Top 500 Legend EU)   Robinette42   \n",
       "3527                         [Spark] Beast Master (S25)       Sparkaz   \n",
       "3992  [Rank 9 to Legend in 11 Hours] Yogg/Token Drui...     HS_KerneL   \n",
       "\n",
       "                                                   card  \n",
       "137   180 180 306 459 461 461 559 573 667 667 749 82...  \n",
       "1690  64 64 95 137 137 254 254 734 825 825 1035 1124...  \n",
       "2414  28 28 1007 1007 242 304 304 401 401 511 511 53...  \n",
       "3527  296 296 437 437 519 699 141 1003 1003 1093 124...  \n",
       "3992  36 64 64 95 95 137 137 254 254 503 503 825 825...  "
      ]
     },
     "execution_count": 156,
     "metadata": {},
     "output_type": "execute_result"
    }
   ],
   "source": [
    "# column \"card\" generated successfully. Dropping card_0 to card_29 columns.\n",
    "rated_decks.drop(['card_0',\n",
    "       'card_1', 'card_2', 'card_3', 'card_4', 'card_5', 'card_6', 'card_7',\n",
    "       'card_8', 'card_9', 'card_10', 'card_11', 'card_12', 'card_13',\n",
    "       'card_14', 'card_15', 'card_16', 'card_17', 'card_18', 'card_19',\n",
    "       'card_20', 'card_21', 'card_22', 'card_23', 'card_24', 'card_25',\n",
    "       'card_26', 'card_27', 'card_28', 'card_29'], axis=1, inplace=True)\n",
    "rated_decks.head()"
   ]
  },
  {
   "cell_type": "markdown",
   "metadata": {},
   "source": [
    "The column \"card\" now contains 30 card IDs for the cards within the deck."
   ]
  },
  {
   "cell_type": "markdown",
   "metadata": {},
   "source": [
    "### Creating columns containing the counts of each card"
   ]
  },
  {
   "cell_type": "markdown",
   "metadata": {},
   "source": [
    "### Cards details from JSON\n",
    "JSON file contains the names and IDs of all the cards. This JSON file will be used to obtain the list of all card IDs."
   ]
  },
  {
   "cell_type": "code",
   "execution_count": 157,
   "metadata": {},
   "outputs": [
    {
     "data": {
      "text/html": [
       "<div>\n",
       "<style scoped>\n",
       "    .dataframe tbody tr th:only-of-type {\n",
       "        vertical-align: middle;\n",
       "    }\n",
       "\n",
       "    .dataframe tbody tr th {\n",
       "        vertical-align: top;\n",
       "    }\n",
       "\n",
       "    .dataframe thead th {\n",
       "        text-align: right;\n",
       "    }\n",
       "</style>\n",
       "<table border=\"1\" class=\"dataframe\">\n",
       "  <thead>\n",
       "    <tr style=\"text-align: right;\">\n",
       "      <th></th>\n",
       "      <th>artist</th>\n",
       "      <th>attack</th>\n",
       "      <th>cardClass</th>\n",
       "      <th>collectible</th>\n",
       "      <th>cost</th>\n",
       "      <th>dbfId</th>\n",
       "      <th>flavor</th>\n",
       "      <th>health</th>\n",
       "      <th>id</th>\n",
       "      <th>name</th>\n",
       "      <th>...</th>\n",
       "      <th>targetingArrowText</th>\n",
       "      <th>durability</th>\n",
       "      <th>entourage</th>\n",
       "      <th>faction</th>\n",
       "      <th>overload</th>\n",
       "      <th>spellDamage</th>\n",
       "      <th>hideStats</th>\n",
       "      <th>classes</th>\n",
       "      <th>multiClassGroup</th>\n",
       "      <th>collectionText</th>\n",
       "    </tr>\n",
       "  </thead>\n",
       "  <tbody>\n",
       "    <tr>\n",
       "      <th>0</th>\n",
       "      <td>Jakub Kasper</td>\n",
       "      <td>4.0</td>\n",
       "      <td>NEUTRAL</td>\n",
       "      <td>True</td>\n",
       "      <td>4.0</td>\n",
       "      <td>2518</td>\n",
       "      <td>The crowd ALWAYS yells lethal.</td>\n",
       "      <td>4.0</td>\n",
       "      <td>AT_121</td>\n",
       "      <td>Crowd Favorite</td>\n",
       "      <td>...</td>\n",
       "      <td>NaN</td>\n",
       "      <td>NaN</td>\n",
       "      <td>NaN</td>\n",
       "      <td>NaN</td>\n",
       "      <td>NaN</td>\n",
       "      <td>NaN</td>\n",
       "      <td>NaN</td>\n",
       "      <td>NaN</td>\n",
       "      <td>NaN</td>\n",
       "      <td>NaN</td>\n",
       "    </tr>\n",
       "    <tr>\n",
       "      <th>1</th>\n",
       "      <td>NaN</td>\n",
       "      <td>4.0</td>\n",
       "      <td>NEUTRAL</td>\n",
       "      <td>NaN</td>\n",
       "      <td>6.0</td>\n",
       "      <td>1769</td>\n",
       "      <td>NaN</td>\n",
       "      <td>7.0</td>\n",
       "      <td>CRED_09</td>\n",
       "      <td>Ben Thompson</td>\n",
       "      <td>...</td>\n",
       "      <td>NaN</td>\n",
       "      <td>NaN</td>\n",
       "      <td>NaN</td>\n",
       "      <td>NaN</td>\n",
       "      <td>NaN</td>\n",
       "      <td>NaN</td>\n",
       "      <td>NaN</td>\n",
       "      <td>NaN</td>\n",
       "      <td>NaN</td>\n",
       "      <td>NaN</td>\n",
       "    </tr>\n",
       "    <tr>\n",
       "      <th>2</th>\n",
       "      <td>NaN</td>\n",
       "      <td>NaN</td>\n",
       "      <td>NEUTRAL</td>\n",
       "      <td>NaN</td>\n",
       "      <td>NaN</td>\n",
       "      <td>10081</td>\n",
       "      <td>NaN</td>\n",
       "      <td>NaN</td>\n",
       "      <td>TB_007e</td>\n",
       "      <td>Deviate Switch</td>\n",
       "      <td>...</td>\n",
       "      <td>NaN</td>\n",
       "      <td>NaN</td>\n",
       "      <td>NaN</td>\n",
       "      <td>NaN</td>\n",
       "      <td>NaN</td>\n",
       "      <td>NaN</td>\n",
       "      <td>NaN</td>\n",
       "      <td>NaN</td>\n",
       "      <td>NaN</td>\n",
       "      <td>NaN</td>\n",
       "    </tr>\n",
       "    <tr>\n",
       "      <th>3</th>\n",
       "      <td>Mauricio Herrera</td>\n",
       "      <td>3.0</td>\n",
       "      <td>WARRIOR</td>\n",
       "      <td>True</td>\n",
       "      <td>3.0</td>\n",
       "      <td>40569</td>\n",
       "      <td>\"I don't know a lot about used GvG cards, so I...</td>\n",
       "      <td>3.0</td>\n",
       "      <td>CFM_755</td>\n",
       "      <td>Grimestreet Pawnbroker</td>\n",
       "      <td>...</td>\n",
       "      <td>NaN</td>\n",
       "      <td>NaN</td>\n",
       "      <td>NaN</td>\n",
       "      <td>NaN</td>\n",
       "      <td>NaN</td>\n",
       "      <td>NaN</td>\n",
       "      <td>NaN</td>\n",
       "      <td>NaN</td>\n",
       "      <td>NaN</td>\n",
       "      <td>NaN</td>\n",
       "    </tr>\n",
       "    <tr>\n",
       "      <th>4</th>\n",
       "      <td>Ittoku</td>\n",
       "      <td>2.0</td>\n",
       "      <td>NEUTRAL</td>\n",
       "      <td>True</td>\n",
       "      <td>4.0</td>\n",
       "      <td>1370</td>\n",
       "      <td>His dreams of flying and breathing fire like h...</td>\n",
       "      <td>7.0</td>\n",
       "      <td>CS2_119</td>\n",
       "      <td>Oasis Snapjaw</td>\n",
       "      <td>...</td>\n",
       "      <td>NaN</td>\n",
       "      <td>NaN</td>\n",
       "      <td>NaN</td>\n",
       "      <td>NaN</td>\n",
       "      <td>NaN</td>\n",
       "      <td>NaN</td>\n",
       "      <td>NaN</td>\n",
       "      <td>NaN</td>\n",
       "      <td>NaN</td>\n",
       "      <td>NaN</td>\n",
       "    </tr>\n",
       "  </tbody>\n",
       "</table>\n",
       "<p>5 rows × 32 columns</p>\n",
       "</div>"
      ],
      "text/plain": [
       "             artist  attack cardClass collectible  cost  dbfId  \\\n",
       "0      Jakub Kasper     4.0   NEUTRAL        True   4.0   2518   \n",
       "1               NaN     4.0   NEUTRAL         NaN   6.0   1769   \n",
       "2               NaN     NaN   NEUTRAL         NaN   NaN  10081   \n",
       "3  Mauricio Herrera     3.0   WARRIOR        True   3.0  40569   \n",
       "4            Ittoku     2.0   NEUTRAL        True   4.0   1370   \n",
       "\n",
       "                                              flavor  health       id  \\\n",
       "0                     The crowd ALWAYS yells lethal.     4.0   AT_121   \n",
       "1                                                NaN     7.0  CRED_09   \n",
       "2                                                NaN     NaN  TB_007e   \n",
       "3  \"I don't know a lot about used GvG cards, so I...     3.0  CFM_755   \n",
       "4  His dreams of flying and breathing fire like h...     7.0  CS2_119   \n",
       "\n",
       "                     name  ... targetingArrowText durability entourage  \\\n",
       "0          Crowd Favorite  ...                NaN        NaN       NaN   \n",
       "1            Ben Thompson  ...                NaN        NaN       NaN   \n",
       "2          Deviate Switch  ...                NaN        NaN       NaN   \n",
       "3  Grimestreet Pawnbroker  ...                NaN        NaN       NaN   \n",
       "4           Oasis Snapjaw  ...                NaN        NaN       NaN   \n",
       "\n",
       "  faction overload spellDamage hideStats classes multiClassGroup  \\\n",
       "0     NaN      NaN         NaN       NaN     NaN             NaN   \n",
       "1     NaN      NaN         NaN       NaN     NaN             NaN   \n",
       "2     NaN      NaN         NaN       NaN     NaN             NaN   \n",
       "3     NaN      NaN         NaN       NaN     NaN             NaN   \n",
       "4     NaN      NaN         NaN       NaN     NaN             NaN   \n",
       "\n",
       "  collectionText  \n",
       "0            NaN  \n",
       "1            NaN  \n",
       "2            NaN  \n",
       "3            NaN  \n",
       "4            NaN  \n",
       "\n",
       "[5 rows x 32 columns]"
      ]
     },
     "execution_count": 157,
     "metadata": {},
     "output_type": "execute_result"
    }
   ],
   "source": [
    "card_data = pd.DataFrame.from_records(refs)\n",
    "\n",
    "# dropping cards without dbfId\n",
    "card_data = card_data[~card_data['dbfId'].isna()]\n",
    "\n",
    "# casting the dbfId to integer instead of float\n",
    "card_data['dbfId'] = card_data['dbfId'].astype(int)\n",
    "\n",
    "card_data.head()"
   ]
  },
  {
   "cell_type": "code",
   "execution_count": 158,
   "metadata": {},
   "outputs": [
    {
     "data": {
      "text/plain": [
       "Index(['artist', 'attack', 'cardClass', 'collectible', 'cost', 'dbfId',\n",
       "       'flavor', 'health', 'id', 'name', 'playerClass', 'rarity',\n",
       "       'referencedTags', 'set', 'text', 'type', 'elite', 'mechanics',\n",
       "       'howToEarnGolden', 'race', 'playRequirements', 'howToEarn',\n",
       "       'targetingArrowText', 'durability', 'entourage', 'faction', 'overload',\n",
       "       'spellDamage', 'hideStats', 'classes', 'multiClassGroup',\n",
       "       'collectionText'],\n",
       "      dtype='object')"
      ]
     },
     "execution_count": 158,
     "metadata": {},
     "output_type": "execute_result"
    }
   ],
   "source": [
    "# reading the column names\n",
    "card_data.columns"
   ]
  },
  {
   "cell_type": "code",
   "execution_count": 159,
   "metadata": {},
   "outputs": [
    {
     "data": {
      "text/plain": [
       "(3116, 32)"
      ]
     },
     "execution_count": 159,
     "metadata": {},
     "output_type": "execute_result"
    }
   ],
   "source": [
    "# reading the shape, 3116 cards in total\n",
    "card_data.shape"
   ]
  },
  {
   "cell_type": "code",
   "execution_count": 160,
   "metadata": {},
   "outputs": [],
   "source": [
    "# obtaining a list of all card IDs in the reference card data\n",
    "card_ids = card_data['dbfId'].astype(str).tolist()"
   ]
  },
  {
   "cell_type": "code",
   "execution_count": 161,
   "metadata": {},
   "outputs": [],
   "source": [
    "def contains(cardlist, card):\n",
    "    '''\n",
    "    A functiont to check how many times a card ID (\"dbfId\")\n",
    "    appear in the cardlist under \"card\" column.\n",
    "    '''\n",
    "    cardcount = Counter(cardlist.split())[card]\n",
    "    return cardcount"
   ]
  },
  {
   "cell_type": "code",
   "execution_count": 162,
   "metadata": {},
   "outputs": [],
   "source": [
    "# for every card in the cardlist, check if it is present in the card column.\n",
    "# Then add the count (0,1 or 2) onder the respective card's column\n",
    "\n",
    "for i in (card_ids):\n",
    "    rated_decks.loc[:,i] = rated_decks.loc[:,'card'].apply(lambda x: contains(x,i))"
   ]
  },
  {
   "cell_type": "code",
   "execution_count": 163,
   "metadata": {
    "scrolled": true
   },
   "outputs": [
    {
     "data": {
      "text/html": [
       "<div>\n",
       "<style scoped>\n",
       "    .dataframe tbody tr th:only-of-type {\n",
       "        vertical-align: middle;\n",
       "    }\n",
       "\n",
       "    .dataframe tbody tr th {\n",
       "        vertical-align: top;\n",
       "    }\n",
       "\n",
       "    .dataframe thead th {\n",
       "        text-align: right;\n",
       "    }\n",
       "</style>\n",
       "<table border=\"1\" class=\"dataframe\">\n",
       "  <thead>\n",
       "    <tr style=\"text-align: right;\">\n",
       "      <th></th>\n",
       "      <th>craft_cost</th>\n",
       "      <th>date</th>\n",
       "      <th>deck_archetype</th>\n",
       "      <th>deck_class</th>\n",
       "      <th>deck_format</th>\n",
       "      <th>deck_id</th>\n",
       "      <th>deck_set</th>\n",
       "      <th>deck_type</th>\n",
       "      <th>rating</th>\n",
       "      <th>title</th>\n",
       "      <th>...</th>\n",
       "      <th>39119</th>\n",
       "      <th>2782</th>\n",
       "      <th>2949</th>\n",
       "      <th>40839</th>\n",
       "      <th>38426</th>\n",
       "      <th>919</th>\n",
       "      <th>1135</th>\n",
       "      <th>1064</th>\n",
       "      <th>140</th>\n",
       "      <th>41841</th>\n",
       "    </tr>\n",
       "  </thead>\n",
       "  <tbody>\n",
       "    <tr>\n",
       "      <th>137</th>\n",
       "      <td>8120</td>\n",
       "      <td>2016-02-19</td>\n",
       "      <td>Miracle Rogue</td>\n",
       "      <td>Rogue</td>\n",
       "      <td>S</td>\n",
       "      <td>432773</td>\n",
       "      <td>Explorers</td>\n",
       "      <td>Ranked Deck</td>\n",
       "      <td>303</td>\n",
       "      <td>Standard Miracle Rogue</td>\n",
       "      <td>...</td>\n",
       "      <td>0</td>\n",
       "      <td>0</td>\n",
       "      <td>0</td>\n",
       "      <td>0</td>\n",
       "      <td>0</td>\n",
       "      <td>0</td>\n",
       "      <td>0</td>\n",
       "      <td>0</td>\n",
       "      <td>0</td>\n",
       "      <td>0</td>\n",
       "    </tr>\n",
       "    <tr>\n",
       "      <th>1690</th>\n",
       "      <td>8180</td>\n",
       "      <td>2016-04-21</td>\n",
       "      <td>Ramp Druid</td>\n",
       "      <td>Druid</td>\n",
       "      <td>S</td>\n",
       "      <td>478188</td>\n",
       "      <td>Explorers</td>\n",
       "      <td>Ranked Deck</td>\n",
       "      <td>87</td>\n",
       "      <td>*Updated* C'Thun Ramp (Anti-Meta)</td>\n",
       "      <td>...</td>\n",
       "      <td>0</td>\n",
       "      <td>0</td>\n",
       "      <td>0</td>\n",
       "      <td>0</td>\n",
       "      <td>0</td>\n",
       "      <td>0</td>\n",
       "      <td>0</td>\n",
       "      <td>0</td>\n",
       "      <td>0</td>\n",
       "      <td>0</td>\n",
       "    </tr>\n",
       "    <tr>\n",
       "      <th>2414</th>\n",
       "      <td>1680</td>\n",
       "      <td>2016-04-30</td>\n",
       "      <td>Unknown</td>\n",
       "      <td>Warrior</td>\n",
       "      <td>S</td>\n",
       "      <td>520990</td>\n",
       "      <td>Old Gods</td>\n",
       "      <td>Ranked Deck</td>\n",
       "      <td>66</td>\n",
       "      <td>Pirate Aggro Warrior (Top 500 Legend EU)</td>\n",
       "      <td>...</td>\n",
       "      <td>0</td>\n",
       "      <td>0</td>\n",
       "      <td>0</td>\n",
       "      <td>0</td>\n",
       "      <td>0</td>\n",
       "      <td>0</td>\n",
       "      <td>0</td>\n",
       "      <td>0</td>\n",
       "      <td>0</td>\n",
       "      <td>0</td>\n",
       "    </tr>\n",
       "    <tr>\n",
       "      <th>3527</th>\n",
       "      <td>1860</td>\n",
       "      <td>2016-04-30</td>\n",
       "      <td>Midrange Hunter</td>\n",
       "      <td>Hunter</td>\n",
       "      <td>S</td>\n",
       "      <td>520585</td>\n",
       "      <td>Old Gods</td>\n",
       "      <td>Ranked Deck</td>\n",
       "      <td>512</td>\n",
       "      <td>[Spark] Beast Master (S25)</td>\n",
       "      <td>...</td>\n",
       "      <td>0</td>\n",
       "      <td>0</td>\n",
       "      <td>0</td>\n",
       "      <td>0</td>\n",
       "      <td>0</td>\n",
       "      <td>0</td>\n",
       "      <td>0</td>\n",
       "      <td>0</td>\n",
       "      <td>0</td>\n",
       "      <td>0</td>\n",
       "    </tr>\n",
       "    <tr>\n",
       "      <th>3992</th>\n",
       "      <td>8260</td>\n",
       "      <td>2016-06-27</td>\n",
       "      <td>Yogg Druid</td>\n",
       "      <td>Druid</td>\n",
       "      <td>S</td>\n",
       "      <td>579170</td>\n",
       "      <td>Old Gods</td>\n",
       "      <td>Ranked Deck</td>\n",
       "      <td>25</td>\n",
       "      <td>[Rank 9 to Legend in 11 Hours] Yogg/Token Drui...</td>\n",
       "      <td>...</td>\n",
       "      <td>0</td>\n",
       "      <td>0</td>\n",
       "      <td>0</td>\n",
       "      <td>0</td>\n",
       "      <td>0</td>\n",
       "      <td>0</td>\n",
       "      <td>0</td>\n",
       "      <td>0</td>\n",
       "      <td>0</td>\n",
       "      <td>0</td>\n",
       "    </tr>\n",
       "  </tbody>\n",
       "</table>\n",
       "<p>5 rows × 794 columns</p>\n",
       "</div>"
      ],
      "text/plain": [
       "      craft_cost       date   deck_archetype deck_class deck_format  deck_id  \\\n",
       "137         8120 2016-02-19    Miracle Rogue      Rogue           S   432773   \n",
       "1690        8180 2016-04-21       Ramp Druid      Druid           S   478188   \n",
       "2414        1680 2016-04-30          Unknown    Warrior           S   520990   \n",
       "3527        1860 2016-04-30  Midrange Hunter     Hunter           S   520585   \n",
       "3992        8260 2016-06-27       Yogg Druid      Druid           S   579170   \n",
       "\n",
       "       deck_set    deck_type  rating  \\\n",
       "137   Explorers  Ranked Deck     303   \n",
       "1690  Explorers  Ranked Deck      87   \n",
       "2414   Old Gods  Ranked Deck      66   \n",
       "3527   Old Gods  Ranked Deck     512   \n",
       "3992   Old Gods  Ranked Deck      25   \n",
       "\n",
       "                                                  title  ... 39119 2782  2949  \\\n",
       "137                              Standard Miracle Rogue  ...     0    0     0   \n",
       "1690                  *Updated* C'Thun Ramp (Anti-Meta)  ...     0    0     0   \n",
       "2414           Pirate Aggro Warrior (Top 500 Legend EU)  ...     0    0     0   \n",
       "3527                         [Spark] Beast Master (S25)  ...     0    0     0   \n",
       "3992  [Rank 9 to Legend in 11 Hours] Yogg/Token Drui...  ...     0    0     0   \n",
       "\n",
       "      40839  38426  919  1135  1064  140  41841  \n",
       "137       0      0    0     0     0    0      0  \n",
       "1690      0      0    0     0     0    0      0  \n",
       "2414      0      0    0     0     0    0      0  \n",
       "3527      0      0    0     0     0    0      0  \n",
       "3992      0      0    0     0     0    0      0  \n",
       "\n",
       "[5 rows x 794 columns]"
      ]
     },
     "execution_count": 163,
     "metadata": {},
     "output_type": "execute_result"
    }
   ],
   "source": [
    "# remove any card column that does not have a card present in the decks at all.\n",
    "# That is, the value of the column is 0 for every row.\n",
    "\n",
    "rated_decks = rated_decks.loc[:, (rated_decks != 0).any(axis=0)]\n",
    "rated_decks.head()"
   ]
  },
  {
   "cell_type": "code",
   "execution_count": 164,
   "metadata": {},
   "outputs": [],
   "source": [
    "# saving processed data\n",
    "rated_decks.to_csv('processed_HS_data.csv')"
   ]
  },
  {
   "cell_type": "markdown",
   "metadata": {},
   "source": [
    "Checking if all the cards in a deck add up."
   ]
  },
  {
   "cell_type": "code",
   "execution_count": 165,
   "metadata": {},
   "outputs": [
    {
     "data": {
      "text/plain": [
       "True"
      ]
     },
     "execution_count": 165,
     "metadata": {},
     "output_type": "execute_result"
    }
   ],
   "source": [
    "rated_decks.loc[:, 'cardsaddup'] = rated_decks.iloc[:,12:].sum(axis=1) == 30\n",
    "rated_decks['cardsaddup'].sum() == len(rated_decks)"
   ]
  },
  {
   "cell_type": "markdown",
   "metadata": {},
   "source": [
    "## Applying KMeans clustering on both decks and cards\n",
    "The most straightforward method of clusterning appears to be KMeans clustering. Here, for clustering of decks, the number of clusters used is 20 which is an approximate. For clustering of cards, the n value used is 30. Fine tuning of the n value will be done in a later section."
   ]
  },
  {
   "cell_type": "code",
   "execution_count": 166,
   "metadata": {},
   "outputs": [],
   "source": [
    "from sklearn.cluster import KMeans"
   ]
  },
  {
   "cell_type": "markdown",
   "metadata": {},
   "source": [
    "### Clustering the decks together\n",
    "----"
   ]
  },
  {
   "cell_type": "markdown",
   "metadata": {},
   "source": [
    "Here, KMeans clustering is used to cluster the decks together based on their card choices. The expected results would be group of similar decks and the corresponding cards they have in common."
   ]
  },
  {
   "cell_type": "code",
   "execution_count": 167,
   "metadata": {},
   "outputs": [
    {
     "name": "stdout",
     "output_type": "stream",
     "text": [
      "[ 1  4 14 ... 13  1  3]\n"
     ]
    }
   ],
   "source": [
    "# the array clusters_decks now contains the number of the cluster the deck belongs to\n",
    "clusters_decks = KMeans(n_clusters=20, random_state=7).fit_predict(rated_decks.iloc[:,12:])\n",
    "print(clusters_decks)"
   ]
  },
  {
   "cell_type": "markdown",
   "metadata": {},
   "source": [
    "#### Visualizing the data\n",
    "Heatmap appears to be the most straightforward way to visualize the data. The decks are on the y-axis. To improve the interpretability, the deck IDs are replaced by the deck archetypes. Deck archetypes are used instead of the deck names since they are more intuitive when it comes to describing type of a deck.  \n",
    "x-axis are the card names. The heatmap will be sorted in order of cards frequency. That is, the card that appears the most among the decks within the cluster will be on the leftmost of the axis."
   ]
  },
  {
   "cell_type": "code",
   "execution_count": 168,
   "metadata": {},
   "outputs": [],
   "source": [
    "# this lookup table will be used to translate card IDs to names\n",
    "# the keys are integer. They have to be changed to string\n",
    "card_lookup = card_data.set_index('dbfId')['name']\n",
    "card_lookup = {str(k):v for k,v in card_lookup.items()}"
   ]
  },
  {
   "cell_type": "code",
   "execution_count": 169,
   "metadata": {},
   "outputs": [
    {
     "data": {
      "text/plain": [
       "<matplotlib.axes._subplots.AxesSubplot at 0x7f25801b2080>"
      ]
     },
     "execution_count": 169,
     "metadata": {},
     "output_type": "execute_result"
    },
    {
     "data": {
      "image/png": "[encoded data removed]",
      "text/plain": [
       "<Figure size 432x288 with 2 Axes>"
      ]
     },
     "metadata": {
      "needs_background": "light"
     },
     "output_type": "display_data"
    }
   ],
   "source": [
    "# plotting the heat map of cluster number 1\n",
    "cluster_number = 3\n",
    "cluster_1 = rated_decks[clusters_decks == cluster_number].iloc[:,12:].astype(float)\n",
    "\n",
    "# rename the rows (index)\n",
    "cluster_1.set_index([rated_decks[clusters_decks == cluster_number].iloc[:,2]], inplace=True)\n",
    "\n",
    "# rename the columns\n",
    "cluster_1.rename(columns=dict(card_lookup), inplace=True)\n",
    "\n",
    "# drop all clumns with no card present in the decks in the cluster\n",
    "cluster_1 = cluster_1.loc[:, (cluster_1 != 0).any(axis=0)]\n",
    "\n",
    "# sort the columns by their sum\n",
    "cluster_1 = cluster_1.reindex(cluster_1.sum().sort_values(ascending=False).index, axis=1)\n",
    "\n",
    "sns.heatmap(cluster_1)"
   ]
  },
  {
   "cell_type": "markdown",
   "metadata": {},
   "source": [
    "### Discussion\n",
    "Here, we can see the all the Rogue decks are clustered together. Moreover, the main variant appears to be a N'Zoth Rogue. Two copies of strong Rogue cards, preferably with deathrattle, such as Eviscerate, Undercity Huckster, and Tomb Pillager are included in almost all the decks in this cluster.  \n",
    "This demonstrates that the approach works. However, clustering the decks is not as useful as clustering the cards together. As such, clustering the cards will be the next and main appraoch of this project."
   ]
  },
  {
   "cell_type": "markdown",
   "metadata": {},
   "source": [
    "### Clustering the _cards_ together ###\n",
    "----"
   ]
  },
  {
   "cell_type": "markdown",
   "metadata": {},
   "source": [
    "Similar to clustering the decks done above, this section explores clustering of the cards using the decks as features. Through this, we can explore what cards frequently appear together and hence the cards that apear together can be considered a **package**."
   ]
  },
  {
   "cell_type": "markdown",
   "metadata": {},
   "source": [
    "### Reformatting the data\n",
    "From rows of decks with cards as features to rows of cards with the decks they are found in as the features"
   ]
  },
  {
   "cell_type": "code",
   "execution_count": 170,
   "metadata": {},
   "outputs": [
    {
     "name": "stdout",
     "output_type": "stream",
     "text": [
      "(782, 1296)\n"
     ]
    }
   ],
   "source": [
    "# transpose the table\n",
    "\n",
    "rated_decks_tpsd = rated_decks.drop(['cardsaddup'], axis=1)\n",
    "rated_decks_tpsd = rated_decks_tpsd.iloc[:,12:]\n",
    "rated_decks_tpsd = rated_decks_tpsd.T\n",
    "print(rated_decks_tpsd.shape)\n",
    "\n",
    "# creading a deck archetype lookup dictionary\n",
    "deck_lookup = rated_decks['deck_archetype']"
   ]
  },
  {
   "cell_type": "code",
   "execution_count": 171,
   "metadata": {},
   "outputs": [
    {
     "data": {
      "text/html": [
       "<div>\n",
       "<style scoped>\n",
       "    .dataframe tbody tr th:only-of-type {\n",
       "        vertical-align: middle;\n",
       "    }\n",
       "\n",
       "    .dataframe tbody tr th {\n",
       "        vertical-align: top;\n",
       "    }\n",
       "\n",
       "    .dataframe thead th {\n",
       "        text-align: right;\n",
       "    }\n",
       "</style>\n",
       "<table border=\"1\" class=\"dataframe\">\n",
       "  <thead>\n",
       "    <tr style=\"text-align: right;\">\n",
       "      <th></th>\n",
       "      <th>137</th>\n",
       "      <th>1690</th>\n",
       "      <th>2414</th>\n",
       "      <th>3527</th>\n",
       "      <th>3992</th>\n",
       "      <th>4592</th>\n",
       "      <th>4965</th>\n",
       "      <th>5269</th>\n",
       "      <th>5327</th>\n",
       "      <th>5358</th>\n",
       "      <th>...</th>\n",
       "      <th>325935</th>\n",
       "      <th>325937</th>\n",
       "      <th>326209</th>\n",
       "      <th>330402</th>\n",
       "      <th>331034</th>\n",
       "      <th>334031</th>\n",
       "      <th>335601</th>\n",
       "      <th>336843</th>\n",
       "      <th>345826</th>\n",
       "      <th>346203</th>\n",
       "    </tr>\n",
       "    <tr>\n",
       "      <th>name</th>\n",
       "      <th></th>\n",
       "      <th></th>\n",
       "      <th></th>\n",
       "      <th></th>\n",
       "      <th></th>\n",
       "      <th></th>\n",
       "      <th></th>\n",
       "      <th></th>\n",
       "      <th></th>\n",
       "      <th></th>\n",
       "      <th></th>\n",
       "      <th></th>\n",
       "      <th></th>\n",
       "      <th></th>\n",
       "      <th></th>\n",
       "      <th></th>\n",
       "      <th></th>\n",
       "      <th></th>\n",
       "      <th></th>\n",
       "      <th></th>\n",
       "      <th></th>\n",
       "    </tr>\n",
       "  </thead>\n",
       "  <tbody>\n",
       "    <tr>\n",
       "      <th>Oasis Snapjaw</th>\n",
       "      <td>0</td>\n",
       "      <td>0</td>\n",
       "      <td>0</td>\n",
       "      <td>0</td>\n",
       "      <td>0</td>\n",
       "      <td>0</td>\n",
       "      <td>0</td>\n",
       "      <td>0</td>\n",
       "      <td>0</td>\n",
       "      <td>0</td>\n",
       "      <td>...</td>\n",
       "      <td>0</td>\n",
       "      <td>0</td>\n",
       "      <td>0</td>\n",
       "      <td>0</td>\n",
       "      <td>0</td>\n",
       "      <td>0</td>\n",
       "      <td>0</td>\n",
       "      <td>0</td>\n",
       "      <td>0</td>\n",
       "      <td>0</td>\n",
       "    </tr>\n",
       "    <tr>\n",
       "      <th>Shadow Word: Death</th>\n",
       "      <td>0</td>\n",
       "      <td>0</td>\n",
       "      <td>0</td>\n",
       "      <td>0</td>\n",
       "      <td>0</td>\n",
       "      <td>0</td>\n",
       "      <td>0</td>\n",
       "      <td>0</td>\n",
       "      <td>0</td>\n",
       "      <td>0</td>\n",
       "      <td>...</td>\n",
       "      <td>0</td>\n",
       "      <td>0</td>\n",
       "      <td>0</td>\n",
       "      <td>0</td>\n",
       "      <td>0</td>\n",
       "      <td>0</td>\n",
       "      <td>0</td>\n",
       "      <td>0</td>\n",
       "      <td>0</td>\n",
       "      <td>0</td>\n",
       "    </tr>\n",
       "    <tr>\n",
       "      <th>Silent Knight</th>\n",
       "      <td>0</td>\n",
       "      <td>0</td>\n",
       "      <td>0</td>\n",
       "      <td>0</td>\n",
       "      <td>0</td>\n",
       "      <td>0</td>\n",
       "      <td>0</td>\n",
       "      <td>0</td>\n",
       "      <td>0</td>\n",
       "      <td>0</td>\n",
       "      <td>...</td>\n",
       "      <td>0</td>\n",
       "      <td>0</td>\n",
       "      <td>0</td>\n",
       "      <td>0</td>\n",
       "      <td>0</td>\n",
       "      <td>0</td>\n",
       "      <td>0</td>\n",
       "      <td>0</td>\n",
       "      <td>0</td>\n",
       "      <td>0</td>\n",
       "    </tr>\n",
       "    <tr>\n",
       "      <th>Unlicensed Apothecary</th>\n",
       "      <td>0</td>\n",
       "      <td>0</td>\n",
       "      <td>0</td>\n",
       "      <td>0</td>\n",
       "      <td>0</td>\n",
       "      <td>0</td>\n",
       "      <td>0</td>\n",
       "      <td>0</td>\n",
       "      <td>0</td>\n",
       "      <td>0</td>\n",
       "      <td>...</td>\n",
       "      <td>0</td>\n",
       "      <td>0</td>\n",
       "      <td>0</td>\n",
       "      <td>0</td>\n",
       "      <td>0</td>\n",
       "      <td>0</td>\n",
       "      <td>0</td>\n",
       "      <td>0</td>\n",
       "      <td>0</td>\n",
       "      <td>0</td>\n",
       "    </tr>\n",
       "    <tr>\n",
       "      <th>Shadow Madness</th>\n",
       "      <td>0</td>\n",
       "      <td>0</td>\n",
       "      <td>0</td>\n",
       "      <td>0</td>\n",
       "      <td>0</td>\n",
       "      <td>0</td>\n",
       "      <td>0</td>\n",
       "      <td>0</td>\n",
       "      <td>0</td>\n",
       "      <td>0</td>\n",
       "      <td>...</td>\n",
       "      <td>0</td>\n",
       "      <td>0</td>\n",
       "      <td>0</td>\n",
       "      <td>0</td>\n",
       "      <td>0</td>\n",
       "      <td>0</td>\n",
       "      <td>0</td>\n",
       "      <td>0</td>\n",
       "      <td>0</td>\n",
       "      <td>0</td>\n",
       "    </tr>\n",
       "  </tbody>\n",
       "</table>\n",
       "<p>5 rows × 1296 columns</p>\n",
       "</div>"
      ],
      "text/plain": [
       "                       137     1690    2414    3527    3992    4592    4965    \\\n",
       "name                                                                            \n",
       "Oasis Snapjaw               0       0       0       0       0       0       0   \n",
       "Shadow Word: Death          0       0       0       0       0       0       0   \n",
       "Silent Knight               0       0       0       0       0       0       0   \n",
       "Unlicensed Apothecary       0       0       0       0       0       0       0   \n",
       "Shadow Madness              0       0       0       0       0       0       0   \n",
       "\n",
       "                       5269    5327    5358    ...  325935  325937  326209  \\\n",
       "name                                           ...                           \n",
       "Oasis Snapjaw               0       0       0  ...       0       0       0   \n",
       "Shadow Word: Death          0       0       0  ...       0       0       0   \n",
       "Silent Knight               0       0       0  ...       0       0       0   \n",
       "Unlicensed Apothecary       0       0       0  ...       0       0       0   \n",
       "Shadow Madness              0       0       0  ...       0       0       0   \n",
       "\n",
       "                       330402  331034  334031  335601  336843  345826  346203  \n",
       "name                                                                           \n",
       "Oasis Snapjaw               0       0       0       0       0       0       0  \n",
       "Shadow Word: Death          0       0       0       0       0       0       0  \n",
       "Silent Knight               0       0       0       0       0       0       0  \n",
       "Unlicensed Apothecary       0       0       0       0       0       0       0  \n",
       "Shadow Madness              0       0       0       0       0       0       0  \n",
       "\n",
       "[5 rows x 1296 columns]"
      ]
     },
     "execution_count": 171,
     "metadata": {},
     "output_type": "execute_result"
    }
   ],
   "source": [
    "# changing the dbfId type form integer to string\n",
    "card_data['dbfId'] = card_data['dbfId'].astype(int).astype(str)\n",
    "\n",
    "# joining the card name on dbfId\n",
    "rated_decks_tpsd = pd.merge(rated_decks_tpsd, card_data[['dbfId','name']], how='left', left_index=True, right_on='dbfId')\n",
    "\n",
    "# set the index to be the card name\n",
    "rated_decks_tpsd.set_index('name', inplace=True)\n",
    "\n",
    "# drop dfbId column\n",
    "rated_decks_tpsd.drop(['dbfId'], axis=1, inplace=True)\n",
    "\n",
    "rated_decks_tpsd.head()"
   ]
  },
  {
   "cell_type": "markdown",
   "metadata": {},
   "source": [
    "### Saving card-deck data\n",
    "This dataset has rows as cards and the decks that contain them as features"
   ]
  },
  {
   "cell_type": "code",
   "execution_count": 173,
   "metadata": {},
   "outputs": [],
   "source": [
    "rated_decks_tpsd.to_csv(\"cards-decks.csv\")"
   ]
  },
  {
   "cell_type": "markdown",
   "metadata": {},
   "source": [
    "### kmeans clustering ###"
   ]
  },
  {
   "cell_type": "code",
   "execution_count": 174,
   "metadata": {},
   "outputs": [],
   "source": [
    "kmeansclf = KMeans(n_clusters=30, random_state=7)\n",
    "clusters_cards = kmeansclf.fit_predict(rated_decks_tpsd)"
   ]
  },
  {
   "cell_type": "code",
   "execution_count": 175,
   "metadata": {},
   "outputs": [],
   "source": [
    "def hs_heatmap(data,clusters,clusternumber):\n",
    "    '''\n",
    "    A function that produces a heatmap given the dataset, the KMeans model, and the predicted clusters.\n",
    "    '''\n",
    "    # subsetting the desired cluster\n",
    "    card_cluster = data[clusters == clusternumber]#.astype(float)\n",
    "    \n",
    "    # sort the columns by their sum\n",
    "    card_cluster = card_cluster.reindex(card_cluster.sum().sort_values(ascending=False).index, axis=1)\n",
    "    card_cluster.rename(columns=dict(deck_lookup), inplace=True)\n",
    "    \n",
    "    # drop all clumns with no deck present in the decks in the cluster\n",
    "    card_cluster = card_cluster.loc[:, (card_cluster != 0).any(axis=0)]\n",
    "    \n",
    "    # sort all rows by their sum\n",
    "    sorted_index = card_cluster.sum(axis=1).sort_values(ascending=False)\n",
    "    card_cluster = card_cluster.loc[sorted_index.index]\n",
    "    \n",
    "    sns.heatmap(card_cluster)"
   ]
  },
  {
   "cell_type": "code",
   "execution_count": 176,
   "metadata": {},
   "outputs": [
    {
     "data": {
      "image/png": "[encoded data removed]",
      "text/plain": [
       "<Figure size 432x288 with 2 Axes>"
      ]
     },
     "metadata": {
      "needs_background": "light"
     },
     "output_type": "display_data"
    }
   ],
   "source": [
    "hs_heatmap(rated_decks_tpsd, clusters_cards, 3)"
   ]
  },
  {
   "cell_type": "markdown",
   "metadata": {},
   "source": [
    "### Discussion\n",
    "The heatmap above shows that KMeans clustering is effective at grouping the cards that frequently appear in the same deck togehter. In the example above, the heatmap shows a **package** of Shaman cards. These are the cards that appear together mostly in Midrange Shaman decks. They are Hex, Totem Golem, Lightning Storm, Flametongue Totem, Thing from Below, Tunnel Trogg, Lightining Bolt and Feral Spirit. These cards synergize well together using the Totem tribe and overload effects."
   ]
  },
  {
   "cell_type": "markdown",
   "metadata": {},
   "source": [
    "## Fine-tuning the model\n",
    "To find the optimal n value, root mean squared distance is used to measure the tightness of a cluster. This root mean squared value is then used to measure how well the cards are clustered together."
   ]
  },
  {
   "cell_type": "code",
   "execution_count": 177,
   "metadata": {},
   "outputs": [],
   "source": [
    "def rmsqdist(data,classifier,classifier_output):\n",
    "    '''\n",
    "    Calculating the root mean square distance for each cluster\n",
    "    '''\n",
    "    clusters = []\n",
    "    intra_msqdist = []\n",
    "    num_cards = []\n",
    "    nclusters = classifier.get_params()['n_clusters']\n",
    "    for n in range(0, nclusters):\n",
    "        clsutercentroid = classifier.cluster_centers_[n]\n",
    "        cards_in_cluster_n = data[classifier_output == n].copy()\n",
    "        card_num = len(cards_in_cluster_n)\n",
    "        \n",
    "        # use the norm function to obtain the root squared distance\n",
    "        cards_in_cluster_n.loc[:, 'dist-from-centroid'] = cards_in_cluster_n.apply(\n",
    "            lambda x: np.linalg.norm(x - clsutercentroid), axis=1)\n",
    "        # finding the mean value\n",
    "        average_dist = np.mean(cards_in_cluster_n['dist-from-centroid'])\n",
    "        clusters.append(n)\n",
    "        intra_msqdist.append(average_dist)\n",
    "        num_cards.append(card_num)\n",
    "    return clusters, intra_msqdist, num_cards"
   ]
  },
  {
   "cell_type": "markdown",
   "metadata": {},
   "source": [
    "#### Beyond root mean suqared\n",
    "As the number of clusters increase, the root mean squared distance decreases. Given the context of this project, **a package** refers to at least 2 cards working together. As such, even if the mean squared distance is low, a singleton cluster is not desirable. Therefore, the optimal model for this situation would be one where the root mean squared distance is low yet there is minimal number of singletons clusters.  \n",
    "Hence, we look for an \"elbow\" in the plot of the number of singletons against the number of KMeans cluster. That n value is then used as the optimal number of clusters.  \n",
    "In addition, the inertia value will also be taken into consideration below."
   ]
  },
  {
   "cell_type": "code",
   "execution_count": 178,
   "metadata": {},
   "outputs": [],
   "source": [
    "# looping through different number of cluster for KMeans, saving the key parameters each time.\n",
    "k_vals = []\n",
    "k_inertia = []\n",
    "mean_dist = []\n",
    "singletons = []\n",
    "for k in range(10,60):\n",
    "    kmeansclf = KMeans(n_clusters=k, n_init=30, random_state=7)\n",
    "    clusters_cards = kmeansclf.fit_predict(rated_decks_tpsd)\n",
    "    clusters, avgdist, num_cards = rmsqdist(rated_decks_tpsd, kmeansclf, clusters_cards)\n",
    "    summary = pd.DataFrame({'clusters' : clusters, 'avgdist' : avgdist, 'num_cards' : num_cards}).set_index('clusters')\n",
    "    mean_dist_for_k = np.mean(summary[summary['num_cards'] >= 2]['avgdist'])\n",
    "    singleton = len(summary[summary['num_cards'] == 1])\n",
    "    k_vals.append(k)\n",
    "    k_inertia.append(kmeansclf.inertia_)\n",
    "    mean_dist.append(mean_dist_for_k)\n",
    "    singletons.append(singleton)\n",
    "    k_vals, mean_dist, singletons"
   ]
  },
  {
   "cell_type": "code",
   "execution_count": 179,
   "metadata": {},
   "outputs": [],
   "source": [
    "# fitting a smooth curve for the number of singletons.\n",
    "\n",
    "singletons_fit = []\n",
    "p = np.poly1d(np.polyfit(k_vals,singletons,5))\n",
    "for i in k_vals:\n",
    "    singletons_fit.append(p(i))"
   ]
  },
  {
   "cell_type": "markdown",
   "metadata": {},
   "source": [
    "### Visualizing the Elbow\n",
    "Plotting all the parameters above against the number of clusters"
   ]
  },
  {
   "cell_type": "code",
   "execution_count": 180,
   "metadata": {},
   "outputs": [
    {
     "data": {
      "image/png": "[encoded data removed]",
      "text/plain": [
       "<Figure size 1152x576 with 2 Axes>"
      ]
     },
     "metadata": {
      "needs_background": "light"
     },
     "output_type": "display_data"
    }
   ],
   "source": [
    "fig, ax1 = plt.subplots(figsize=(16, 8))\n",
    "ax2 = ax1.twinx()\n",
    "\n",
    "ax1.plot(k_vals, k_inertia, label='inertia', c='red')\n",
    "ax1.set_ylabel(\"inertia\", fontsize=16)\n",
    "ax2.plot(k_vals, mean_dist, label='root mean distance fron centroid', c='g')\n",
    "ax2.set_ylabel(\"mean distance fron centroid\\n number of singletons\", fontsize=16)\n",
    "ax2.plot(k_vals, singletons, label='single card clusters')\n",
    "ax2.plot(k_vals, singletons_fit, linestyle='--', label='singletons-estimate')\n",
    "ax1.legend(loc='center left')\n",
    "ax2.legend(loc='right')\n",
    "ax1.axvline(x=32, c='black')\n",
    "ax1.grid()\n",
    "ax1.set_title(\"Mean squared dist from centroid and singletons vs number of clusters\", fontsize=20);"
   ]
  },
  {
   "cell_type": "markdown",
   "metadata": {},
   "source": [
    "### The optimal model\n",
    "From above, the best value of n seems to be approximately **32**. No strong elbow effect is observed and hence the value of 32 is derived from the number of clusters where the number of singletons start to rise sharply.  \n",
    "Running the KMeans clustering one more time with n=32. Also, since **packages** are a handful of cards that are used together. The final result of this clustering exercise will be a list of **packages** with cards between 2 to 15 cards (half a deck)."
   ]
  },
  {
   "cell_type": "code",
   "execution_count": 181,
   "metadata": {},
   "outputs": [],
   "source": [
    "kmeansclf = KMeans(n_clusters=32, n_init=50, random_state=7)\n",
    "clusters_cards = kmeansclf.fit_predict(rated_decks_tpsd)"
   ]
  },
  {
   "cell_type": "code",
   "execution_count": 182,
   "metadata": {},
   "outputs": [
    {
     "name": "stdout",
     "output_type": "stream",
     "text": [
      "[ 0  2  3  4  5  6  7  8 10 11 12 13 15 16 17 18 19 21 23 24 25 26 28 29\n",
      " 30 31]\n"
     ]
    }
   ],
   "source": [
    "# obtaining the clusters with cards between 2 and 15\n",
    "unique, counts = np.unique(clusters_cards, return_counts=True)\n",
    "is_package = pd.Series(dict(zip(unique, counts)))\n",
    "is_package = is_package[is_package <= 15]\n",
    "is_package = is_package[is_package > 1]\n",
    "is_package = np.array(is_package.index)\n",
    "print(is_package)"
   ]
  },
  {
   "cell_type": "markdown",
   "metadata": {},
   "source": [
    "The above clusters are the clusters which can be defined to be a **package**.  \n",
    "Then, the card names are sorted according to the frequency of appearance within a cluster and tabulated below."
   ]
  },
  {
   "cell_type": "code",
   "execution_count": 183,
   "metadata": {},
   "outputs": [
    {
     "data": {
      "text/html": [
       "<div>\n",
       "<style scoped>\n",
       "    .dataframe tbody tr th:only-of-type {\n",
       "        vertical-align: middle;\n",
       "    }\n",
       "\n",
       "    .dataframe tbody tr th {\n",
       "        vertical-align: top;\n",
       "    }\n",
       "\n",
       "    .dataframe thead th {\n",
       "        text-align: right;\n",
       "    }\n",
       "</style>\n",
       "<table border=\"1\" class=\"dataframe\">\n",
       "  <thead>\n",
       "    <tr style=\"text-align: right;\">\n",
       "      <th></th>\n",
       "      <th>card_1</th>\n",
       "      <th>card_2</th>\n",
       "      <th>card_3</th>\n",
       "      <th>card_4</th>\n",
       "      <th>card_5</th>\n",
       "      <th>card_6</th>\n",
       "      <th>card_7</th>\n",
       "      <th>card_8</th>\n",
       "      <th>card_9</th>\n",
       "      <th>card_10</th>\n",
       "      <th>card_11</th>\n",
       "      <th>card_12</th>\n",
       "      <th>card_13</th>\n",
       "      <th>card_14</th>\n",
       "    </tr>\n",
       "    <tr>\n",
       "      <th>package</th>\n",
       "      <th></th>\n",
       "      <th></th>\n",
       "      <th></th>\n",
       "      <th></th>\n",
       "      <th></th>\n",
       "      <th></th>\n",
       "      <th></th>\n",
       "      <th></th>\n",
       "      <th></th>\n",
       "      <th></th>\n",
       "      <th></th>\n",
       "      <th></th>\n",
       "      <th></th>\n",
       "      <th></th>\n",
       "    </tr>\n",
       "  </thead>\n",
       "  <tbody>\n",
       "    <tr>\n",
       "      <th>0</th>\n",
       "      <td>Jade Spirit</td>\n",
       "      <td>Aya Blackpaw</td>\n",
       "      <td>Jade Idol</td>\n",
       "      <td>Jade Blossom</td>\n",
       "      <td>Jade Behemoth</td>\n",
       "      <td>None</td>\n",
       "      <td>None</td>\n",
       "      <td>None</td>\n",
       "      <td>None</td>\n",
       "      <td>None</td>\n",
       "      <td>None</td>\n",
       "      <td>None</td>\n",
       "      <td>None</td>\n",
       "      <td>None</td>\n",
       "    </tr>\n",
       "    <tr>\n",
       "      <th>2</th>\n",
       "      <td>Innervate</td>\n",
       "      <td>Swipe</td>\n",
       "      <td>Wrath</td>\n",
       "      <td>Living Roots</td>\n",
       "      <td>None</td>\n",
       "      <td>None</td>\n",
       "      <td>None</td>\n",
       "      <td>None</td>\n",
       "      <td>None</td>\n",
       "      <td>None</td>\n",
       "      <td>None</td>\n",
       "      <td>None</td>\n",
       "      <td>None</td>\n",
       "      <td>None</td>\n",
       "    </tr>\n",
       "    <tr>\n",
       "      <th>3</th>\n",
       "      <td>Animal Companion</td>\n",
       "      <td>Kill Command</td>\n",
       "      <td>Eaglehorn Bow</td>\n",
       "      <td>Quick Shot</td>\n",
       "      <td>Savannah Highmane</td>\n",
       "      <td>Unleash the Hounds</td>\n",
       "      <td>Explosive Trap</td>\n",
       "      <td>Freezing Trap</td>\n",
       "      <td>None</td>\n",
       "      <td>None</td>\n",
       "      <td>None</td>\n",
       "      <td>None</td>\n",
       "      <td>None</td>\n",
       "      <td>None</td>\n",
       "    </tr>\n",
       "    <tr>\n",
       "      <th>4</th>\n",
       "      <td>Fireball</td>\n",
       "      <td>Frostbolt</td>\n",
       "      <td>Arcane Intellect</td>\n",
       "      <td>Mana Wyrm</td>\n",
       "      <td>Arcane Missiles</td>\n",
       "      <td>Sorcerer's Apprentice</td>\n",
       "      <td>Arcane Blast</td>\n",
       "      <td>Flamewaker</td>\n",
       "      <td>Cult Sorcerer</td>\n",
       "      <td>None</td>\n",
       "      <td>None</td>\n",
       "      <td>None</td>\n",
       "      <td>None</td>\n",
       "      <td>None</td>\n",
       "    </tr>\n",
       "    <tr>\n",
       "      <th>5</th>\n",
       "      <td>Power Word: Shield</td>\n",
       "      <td>Shadow Word: Death</td>\n",
       "      <td>Shadow Word: Pain</td>\n",
       "      <td>Northshire Cleric</td>\n",
       "      <td>Holy Nova</td>\n",
       "      <td>None</td>\n",
       "      <td>None</td>\n",
       "      <td>None</td>\n",
       "      <td>None</td>\n",
       "      <td>None</td>\n",
       "      <td>None</td>\n",
       "      <td>None</td>\n",
       "      <td>None</td>\n",
       "      <td>None</td>\n",
       "    </tr>\n",
       "    <tr>\n",
       "      <th>6</th>\n",
       "      <td>Hex</td>\n",
       "      <td>Lightning Storm</td>\n",
       "      <td>Thing from Below</td>\n",
       "      <td>Mana Tide Totem</td>\n",
       "      <td>None</td>\n",
       "      <td>None</td>\n",
       "      <td>None</td>\n",
       "      <td>None</td>\n",
       "      <td>None</td>\n",
       "      <td>None</td>\n",
       "      <td>None</td>\n",
       "      <td>None</td>\n",
       "      <td>None</td>\n",
       "      <td>None</td>\n",
       "    </tr>\n",
       "    <tr>\n",
       "      <th>7</th>\n",
       "      <td>Eviscerate</td>\n",
       "      <td>Backstab</td>\n",
       "      <td>SI:7 Agent</td>\n",
       "      <td>Fan of Knives</td>\n",
       "      <td>Sap</td>\n",
       "      <td>Gadgetzan Auctioneer</td>\n",
       "      <td>Preparation</td>\n",
       "      <td>Tomb Pillager</td>\n",
       "      <td>Cold Blood</td>\n",
       "      <td>None</td>\n",
       "      <td>None</td>\n",
       "      <td>None</td>\n",
       "      <td>None</td>\n",
       "      <td>None</td>\n",
       "    </tr>\n",
       "    <tr>\n",
       "      <th>8</th>\n",
       "      <td>Totem Golem</td>\n",
       "      <td>Flametongue Totem</td>\n",
       "      <td>Tunnel Trogg</td>\n",
       "      <td>Lightning Bolt</td>\n",
       "      <td>Feral Spirit</td>\n",
       "      <td>Rockbiter Weapon</td>\n",
       "      <td>Flamewreathed Faceless</td>\n",
       "      <td>Tuskarr Totemic</td>\n",
       "      <td>None</td>\n",
       "      <td>None</td>\n",
       "      <td>None</td>\n",
       "      <td>None</td>\n",
       "      <td>None</td>\n",
       "      <td>None</td>\n",
       "    </tr>\n",
       "    <tr>\n",
       "      <th>10</th>\n",
       "      <td>Sylvanas Windrunner</td>\n",
       "      <td>Entomb</td>\n",
       "      <td>Excavated Evil</td>\n",
       "      <td>Circle of Healing</td>\n",
       "      <td>Auchenai Soulpriest</td>\n",
       "      <td>Thoughtsteal</td>\n",
       "      <td>Cabal Shadow Priest</td>\n",
       "      <td>Priest of the Feast</td>\n",
       "      <td>Flash Heal</td>\n",
       "      <td>Shifting Shade</td>\n",
       "      <td>Museum Curator</td>\n",
       "      <td>Injured Blademaster</td>\n",
       "      <td>Darkshire Alchemist</td>\n",
       "      <td>None</td>\n",
       "    </tr>\n",
       "    <tr>\n",
       "      <th>11</th>\n",
       "      <td>Acolyte of Pain</td>\n",
       "      <td>Fiery War Axe</td>\n",
       "      <td>Execute</td>\n",
       "      <td>Ravaging Ghoul</td>\n",
       "      <td>Slam</td>\n",
       "      <td>None</td>\n",
       "      <td>None</td>\n",
       "      <td>None</td>\n",
       "      <td>None</td>\n",
       "      <td>None</td>\n",
       "      <td>None</td>\n",
       "      <td>None</td>\n",
       "      <td>None</td>\n",
       "      <td>None</td>\n",
       "    </tr>\n",
       "    <tr>\n",
       "      <th>12</th>\n",
       "      <td>Lava Shock</td>\n",
       "      <td>Elemental Destruction</td>\n",
       "      <td>Healing Wave</td>\n",
       "      <td>Ancestral Knowledge</td>\n",
       "      <td>Stormcrack</td>\n",
       "      <td>None</td>\n",
       "      <td>None</td>\n",
       "      <td>None</td>\n",
       "      <td>None</td>\n",
       "      <td>None</td>\n",
       "      <td>None</td>\n",
       "      <td>None</td>\n",
       "      <td>None</td>\n",
       "      <td>None</td>\n",
       "    </tr>\n",
       "    <tr>\n",
       "      <th>13</th>\n",
       "      <td>Kor'kron Elite</td>\n",
       "      <td>Frothing Berserker</td>\n",
       "      <td>Blood To Ichor</td>\n",
       "      <td>None</td>\n",
       "      <td>None</td>\n",
       "      <td>None</td>\n",
       "      <td>None</td>\n",
       "      <td>None</td>\n",
       "      <td>None</td>\n",
       "      <td>None</td>\n",
       "      <td>None</td>\n",
       "      <td>None</td>\n",
       "      <td>None</td>\n",
       "      <td>None</td>\n",
       "    </tr>\n",
       "    <tr>\n",
       "      <th>15</th>\n",
       "      <td>Bluegill Warrior</td>\n",
       "      <td>Tirion Fordring</td>\n",
       "      <td>Murloc Warleader</td>\n",
       "      <td>Forbidden Healing</td>\n",
       "      <td>Ivory Knight</td>\n",
       "      <td>Ragnaros, Lightlord</td>\n",
       "      <td>Solemn Vigil</td>\n",
       "      <td>Anyfin Can Happen</td>\n",
       "      <td>None</td>\n",
       "      <td>None</td>\n",
       "      <td>None</td>\n",
       "      <td>None</td>\n",
       "      <td>None</td>\n",
       "      <td>None</td>\n",
       "    </tr>\n",
       "    <tr>\n",
       "      <th>16</th>\n",
       "      <td>Bloodmage Thalnos</td>\n",
       "      <td>Flamestrike</td>\n",
       "      <td>Water Elemental</td>\n",
       "      <td>Forgotten Torch</td>\n",
       "      <td>Ice Block</td>\n",
       "      <td>Polymorph</td>\n",
       "      <td>Alexstrasza</td>\n",
       "      <td>Mirror Image</td>\n",
       "      <td>Frost Nova</td>\n",
       "      <td>Novice Engineer</td>\n",
       "      <td>Blizzard</td>\n",
       "      <td>Firelands Portal</td>\n",
       "      <td>Ice Lance</td>\n",
       "      <td>Ice Barrier</td>\n",
       "    </tr>\n",
       "    <tr>\n",
       "      <th>17</th>\n",
       "      <td>Shield Block</td>\n",
       "      <td>Shield Slam</td>\n",
       "      <td>Brawl</td>\n",
       "      <td>Bloodhoof Brave</td>\n",
       "      <td>Justicar Trueheart</td>\n",
       "      <td>Bash</td>\n",
       "      <td>Revenge</td>\n",
       "      <td>None</td>\n",
       "      <td>None</td>\n",
       "      <td>None</td>\n",
       "      <td>None</td>\n",
       "      <td>None</td>\n",
       "      <td>None</td>\n",
       "      <td>None</td>\n",
       "    </tr>\n",
       "    <tr>\n",
       "      <th>18</th>\n",
       "      <td>Wild Growth</td>\n",
       "      <td>Raven Idol</td>\n",
       "      <td>Nourish</td>\n",
       "      <td>Feral Rage</td>\n",
       "      <td>Mire Keeper</td>\n",
       "      <td>Fandral Staghelm</td>\n",
       "      <td>None</td>\n",
       "      <td>None</td>\n",
       "      <td>None</td>\n",
       "      <td>None</td>\n",
       "      <td>None</td>\n",
       "      <td>None</td>\n",
       "      <td>None</td>\n",
       "      <td>None</td>\n",
       "    </tr>\n",
       "    <tr>\n",
       "      <th>19</th>\n",
       "      <td>Wild Pyromancer</td>\n",
       "      <td>Truesilver Champion</td>\n",
       "      <td>Consecration</td>\n",
       "      <td>Aldor Peacekeeper</td>\n",
       "      <td>Equality</td>\n",
       "      <td>None</td>\n",
       "      <td>None</td>\n",
       "      <td>None</td>\n",
       "      <td>None</td>\n",
       "      <td>None</td>\n",
       "      <td>None</td>\n",
       "      <td>None</td>\n",
       "      <td>None</td>\n",
       "      <td>None</td>\n",
       "    </tr>\n",
       "    <tr>\n",
       "      <th>21</th>\n",
       "      <td>Maelstrom Portal</td>\n",
       "      <td>Spirit Claws</td>\n",
       "      <td>None</td>\n",
       "      <td>None</td>\n",
       "      <td>None</td>\n",
       "      <td>None</td>\n",
       "      <td>None</td>\n",
       "      <td>None</td>\n",
       "      <td>None</td>\n",
       "      <td>None</td>\n",
       "      <td>None</td>\n",
       "      <td>None</td>\n",
       "      <td>None</td>\n",
       "      <td>None</td>\n",
       "    </tr>\n",
       "    <tr>\n",
       "      <th>23</th>\n",
       "      <td>Houndmaster</td>\n",
       "      <td>Fiery Bat</td>\n",
       "      <td>Call of the Wild</td>\n",
       "      <td>Infested Wolf</td>\n",
       "      <td>Kindly Grandmother</td>\n",
       "      <td>Huge Toad</td>\n",
       "      <td>King's Elekk</td>\n",
       "      <td>None</td>\n",
       "      <td>None</td>\n",
       "      <td>None</td>\n",
       "      <td>None</td>\n",
       "      <td>None</td>\n",
       "      <td>None</td>\n",
       "      <td>None</td>\n",
       "    </tr>\n",
       "    <tr>\n",
       "      <th>24</th>\n",
       "      <td>Soulfire</td>\n",
       "      <td>Doomguard</td>\n",
       "      <td>Silverware Golem</td>\n",
       "      <td>Malchezaar's Imp</td>\n",
       "      <td>Darkshire Librarian</td>\n",
       "      <td>None</td>\n",
       "      <td>None</td>\n",
       "      <td>None</td>\n",
       "      <td>None</td>\n",
       "      <td>None</td>\n",
       "      <td>None</td>\n",
       "      <td>None</td>\n",
       "      <td>None</td>\n",
       "      <td>None</td>\n",
       "    </tr>\n",
       "    <tr>\n",
       "      <th>25</th>\n",
       "      <td>Druid of the Claw</td>\n",
       "      <td>Power of the Wild</td>\n",
       "      <td>Violet Teacher</td>\n",
       "      <td>Savage Roar</td>\n",
       "      <td>Mark of Y'Shaarj</td>\n",
       "      <td>Druid of the Saber</td>\n",
       "      <td>Stranglethorn Tiger</td>\n",
       "      <td>Mounted Raptor</td>\n",
       "      <td>Enchanted Raven</td>\n",
       "      <td>Druid of the Flame</td>\n",
       "      <td>Savage Combatant</td>\n",
       "      <td>Menagerie Warden</td>\n",
       "      <td>None</td>\n",
       "      <td>None</td>\n",
       "    </tr>\n",
       "    <tr>\n",
       "      <th>26</th>\n",
       "      <td>Twilight Guardian</td>\n",
       "      <td>Blackwing Corruptor</td>\n",
       "      <td>Faerie Dragon</td>\n",
       "      <td>Blackwing Technician</td>\n",
       "      <td>Netherspite Historian</td>\n",
       "      <td>Book Wyrm</td>\n",
       "      <td>Twilight Whelp</td>\n",
       "      <td>Wyrmrest Agent</td>\n",
       "      <td>None</td>\n",
       "      <td>None</td>\n",
       "      <td>None</td>\n",
       "      <td>None</td>\n",
       "      <td>None</td>\n",
       "      <td>None</td>\n",
       "    </tr>\n",
       "    <tr>\n",
       "      <th>28</th>\n",
       "      <td>Southsea Deckhand</td>\n",
       "      <td>N'Zoth's First Mate</td>\n",
       "      <td>Arcanite Reaper</td>\n",
       "      <td>Bloodsail Raider</td>\n",
       "      <td>Upgrade!</td>\n",
       "      <td>Dread Corsair</td>\n",
       "      <td>Heroic Strike</td>\n",
       "      <td>Mortal Strike</td>\n",
       "      <td>Bloodsail Cultist</td>\n",
       "      <td>None</td>\n",
       "      <td>None</td>\n",
       "      <td>None</td>\n",
       "      <td>None</td>\n",
       "      <td>None</td>\n",
       "    </tr>\n",
       "    <tr>\n",
       "      <th>29</th>\n",
       "      <td>Defender of Argus</td>\n",
       "      <td>Abusive Sergeant</td>\n",
       "      <td>Dark Peddler</td>\n",
       "      <td>Knife Juggler</td>\n",
       "      <td>Imp Gang Boss</td>\n",
       "      <td>Power Overwhelming</td>\n",
       "      <td>Voidwalker</td>\n",
       "      <td>Dire Wolf Alpha</td>\n",
       "      <td>Flame Imp</td>\n",
       "      <td>Possessed Villager</td>\n",
       "      <td>Darkshire Councilman</td>\n",
       "      <td>Forbidden Ritual</td>\n",
       "      <td>None</td>\n",
       "      <td>None</td>\n",
       "    </tr>\n",
       "    <tr>\n",
       "      <th>30</th>\n",
       "      <td>C'Thun's Chosen</td>\n",
       "      <td>Disciple of C'Thun</td>\n",
       "      <td>Beckoner of Evil</td>\n",
       "      <td>C'Thun</td>\n",
       "      <td>Twilight Elder</td>\n",
       "      <td>Twin Emperor Vek'lor</td>\n",
       "      <td>None</td>\n",
       "      <td>None</td>\n",
       "      <td>None</td>\n",
       "      <td>None</td>\n",
       "      <td>None</td>\n",
       "      <td>None</td>\n",
       "      <td>None</td>\n",
       "      <td>None</td>\n",
       "    </tr>\n",
       "    <tr>\n",
       "      <th>31</th>\n",
       "      <td>Argent Squire</td>\n",
       "      <td>Argent Horserider</td>\n",
       "      <td>Keeper of Uldaman</td>\n",
       "      <td>Bilefin Tidehunter</td>\n",
       "      <td>Blessing of Kings</td>\n",
       "      <td>Divine Favor</td>\n",
       "      <td>Selfless Hero</td>\n",
       "      <td>Rallying Blade</td>\n",
       "      <td>Argent Protector</td>\n",
       "      <td>Steward of Darkshire</td>\n",
       "      <td>None</td>\n",
       "      <td>None</td>\n",
       "      <td>None</td>\n",
       "      <td>None</td>\n",
       "    </tr>\n",
       "  </tbody>\n",
       "</table>\n",
       "</div>"
      ],
      "text/plain": [
       "                      card_1                 card_2             card_3  \\\n",
       "package                                                                  \n",
       "0                Jade Spirit           Aya Blackpaw          Jade Idol   \n",
       "2                  Innervate                  Swipe              Wrath   \n",
       "3           Animal Companion           Kill Command      Eaglehorn Bow   \n",
       "4                   Fireball              Frostbolt   Arcane Intellect   \n",
       "5         Power Word: Shield     Shadow Word: Death  Shadow Word: Pain   \n",
       "6                        Hex        Lightning Storm   Thing from Below   \n",
       "7                 Eviscerate               Backstab         SI:7 Agent   \n",
       "8                Totem Golem      Flametongue Totem       Tunnel Trogg   \n",
       "10       Sylvanas Windrunner                 Entomb     Excavated Evil   \n",
       "11           Acolyte of Pain          Fiery War Axe            Execute   \n",
       "12                Lava Shock  Elemental Destruction       Healing Wave   \n",
       "13            Kor'kron Elite     Frothing Berserker     Blood To Ichor   \n",
       "15          Bluegill Warrior        Tirion Fordring   Murloc Warleader   \n",
       "16         Bloodmage Thalnos            Flamestrike    Water Elemental   \n",
       "17              Shield Block            Shield Slam              Brawl   \n",
       "18               Wild Growth             Raven Idol            Nourish   \n",
       "19           Wild Pyromancer    Truesilver Champion       Consecration   \n",
       "21          Maelstrom Portal           Spirit Claws               None   \n",
       "23               Houndmaster              Fiery Bat   Call of the Wild   \n",
       "24                  Soulfire              Doomguard   Silverware Golem   \n",
       "25         Druid of the Claw      Power of the Wild     Violet Teacher   \n",
       "26         Twilight Guardian    Blackwing Corruptor      Faerie Dragon   \n",
       "28         Southsea Deckhand    N'Zoth's First Mate    Arcanite Reaper   \n",
       "29         Defender of Argus       Abusive Sergeant       Dark Peddler   \n",
       "30           C'Thun's Chosen     Disciple of C'Thun   Beckoner of Evil   \n",
       "31             Argent Squire      Argent Horserider  Keeper of Uldaman   \n",
       "\n",
       "                       card_4                 card_5                 card_6  \\\n",
       "package                                                                       \n",
       "0                Jade Blossom          Jade Behemoth                   None   \n",
       "2                Living Roots                   None                   None   \n",
       "3                  Quick Shot      Savannah Highmane     Unleash the Hounds   \n",
       "4                   Mana Wyrm        Arcane Missiles  Sorcerer's Apprentice   \n",
       "5           Northshire Cleric              Holy Nova                   None   \n",
       "6             Mana Tide Totem                   None                   None   \n",
       "7               Fan of Knives                    Sap   Gadgetzan Auctioneer   \n",
       "8              Lightning Bolt           Feral Spirit       Rockbiter Weapon   \n",
       "10          Circle of Healing    Auchenai Soulpriest           Thoughtsteal   \n",
       "11             Ravaging Ghoul                   Slam                   None   \n",
       "12        Ancestral Knowledge             Stormcrack                   None   \n",
       "13                       None                   None                   None   \n",
       "15          Forbidden Healing           Ivory Knight    Ragnaros, Lightlord   \n",
       "16            Forgotten Torch              Ice Block              Polymorph   \n",
       "17            Bloodhoof Brave     Justicar Trueheart                   Bash   \n",
       "18                 Feral Rage            Mire Keeper       Fandral Staghelm   \n",
       "19          Aldor Peacekeeper               Equality                   None   \n",
       "21                       None                   None                   None   \n",
       "23              Infested Wolf     Kindly Grandmother              Huge Toad   \n",
       "24           Malchezaar's Imp    Darkshire Librarian                   None   \n",
       "25                Savage Roar       Mark of Y'Shaarj     Druid of the Saber   \n",
       "26       Blackwing Technician  Netherspite Historian              Book Wyrm   \n",
       "28           Bloodsail Raider               Upgrade!          Dread Corsair   \n",
       "29              Knife Juggler          Imp Gang Boss     Power Overwhelming   \n",
       "30                     C'Thun         Twilight Elder   Twin Emperor Vek'lor   \n",
       "31         Bilefin Tidehunter      Blessing of Kings           Divine Favor   \n",
       "\n",
       "                         card_7               card_8             card_9  \\\n",
       "package                                                                   \n",
       "0                          None                 None               None   \n",
       "2                          None                 None               None   \n",
       "3                Explosive Trap        Freezing Trap               None   \n",
       "4                  Arcane Blast           Flamewaker      Cult Sorcerer   \n",
       "5                          None                 None               None   \n",
       "6                          None                 None               None   \n",
       "7                   Preparation        Tomb Pillager         Cold Blood   \n",
       "8        Flamewreathed Faceless      Tuskarr Totemic               None   \n",
       "10          Cabal Shadow Priest  Priest of the Feast         Flash Heal   \n",
       "11                         None                 None               None   \n",
       "12                         None                 None               None   \n",
       "13                         None                 None               None   \n",
       "15                 Solemn Vigil    Anyfin Can Happen               None   \n",
       "16                  Alexstrasza         Mirror Image         Frost Nova   \n",
       "17                      Revenge                 None               None   \n",
       "18                         None                 None               None   \n",
       "19                         None                 None               None   \n",
       "21                         None                 None               None   \n",
       "23                 King's Elekk                 None               None   \n",
       "24                         None                 None               None   \n",
       "25          Stranglethorn Tiger       Mounted Raptor    Enchanted Raven   \n",
       "26               Twilight Whelp       Wyrmrest Agent               None   \n",
       "28                Heroic Strike        Mortal Strike  Bloodsail Cultist   \n",
       "29                   Voidwalker      Dire Wolf Alpha          Flame Imp   \n",
       "30                         None                 None               None   \n",
       "31                Selfless Hero       Rallying Blade   Argent Protector   \n",
       "\n",
       "                      card_10               card_11              card_12  \\\n",
       "package                                                                    \n",
       "0                        None                  None                 None   \n",
       "2                        None                  None                 None   \n",
       "3                        None                  None                 None   \n",
       "4                        None                  None                 None   \n",
       "5                        None                  None                 None   \n",
       "6                        None                  None                 None   \n",
       "7                        None                  None                 None   \n",
       "8                        None                  None                 None   \n",
       "10             Shifting Shade        Museum Curator  Injured Blademaster   \n",
       "11                       None                  None                 None   \n",
       "12                       None                  None                 None   \n",
       "13                       None                  None                 None   \n",
       "15                       None                  None                 None   \n",
       "16            Novice Engineer              Blizzard     Firelands Portal   \n",
       "17                       None                  None                 None   \n",
       "18                       None                  None                 None   \n",
       "19                       None                  None                 None   \n",
       "21                       None                  None                 None   \n",
       "23                       None                  None                 None   \n",
       "24                       None                  None                 None   \n",
       "25         Druid of the Flame      Savage Combatant     Menagerie Warden   \n",
       "26                       None                  None                 None   \n",
       "28                       None                  None                 None   \n",
       "29         Possessed Villager  Darkshire Councilman     Forbidden Ritual   \n",
       "30                       None                  None                 None   \n",
       "31       Steward of Darkshire                  None                 None   \n",
       "\n",
       "                     card_13      card_14  \n",
       "package                                    \n",
       "0                       None         None  \n",
       "2                       None         None  \n",
       "3                       None         None  \n",
       "4                       None         None  \n",
       "5                       None         None  \n",
       "6                       None         None  \n",
       "7                       None         None  \n",
       "8                       None         None  \n",
       "10       Darkshire Alchemist         None  \n",
       "11                      None         None  \n",
       "12                      None         None  \n",
       "13                      None         None  \n",
       "15                      None         None  \n",
       "16                 Ice Lance  Ice Barrier  \n",
       "17                      None         None  \n",
       "18                      None         None  \n",
       "19                      None         None  \n",
       "21                      None         None  \n",
       "23                      None         None  \n",
       "24                      None         None  \n",
       "25                      None         None  \n",
       "26                      None         None  \n",
       "28                      None         None  \n",
       "29                      None         None  \n",
       "30                      None         None  \n",
       "31                      None         None  "
      ]
     },
     "execution_count": 183,
     "metadata": {},
     "output_type": "execute_result"
    }
   ],
   "source": [
    "package_dict = {}\n",
    "for i in is_package:\n",
    "    cards_in_i = rated_decks_tpsd[clusters_cards == i]\n",
    "    sorted_index = cards_in_i.sum(axis=1).sort_values(ascending=False)\n",
    "    card_names = np.array(sorted_index.index)\n",
    "    package_dict[i] = list(card_names)\n",
    "    \n",
    "package_df = pd.DataFrame.from_dict(package_dict,orient = 'index')\n",
    "package_df.columns = ['card_1', 'card_2', 'card_3', 'card_4', 'card_5',\n",
    "                      'card_6', 'card_7', 'card_8', 'card_9', 'card_10',\n",
    "                      'card_11', 'card_12', 'card_13', 'card_14']\n",
    "package_df.index.name = 'package'\n",
    "package_df"
   ]
  },
  {
   "cell_type": "markdown",
   "metadata": {},
   "source": [
    "### Notable clusters"
   ]
  },
  {
   "cell_type": "code",
   "execution_count": 184,
   "metadata": {},
   "outputs": [
    {
     "data": {
      "text/html": [
       "<div>\n",
       "<style scoped>\n",
       "    .dataframe tbody tr th:only-of-type {\n",
       "        vertical-align: middle;\n",
       "    }\n",
       "\n",
       "    .dataframe tbody tr th {\n",
       "        vertical-align: top;\n",
       "    }\n",
       "\n",
       "    .dataframe thead th {\n",
       "        text-align: right;\n",
       "    }\n",
       "</style>\n",
       "<table border=\"1\" class=\"dataframe\">\n",
       "  <thead>\n",
       "    <tr style=\"text-align: right;\">\n",
       "      <th></th>\n",
       "      <th>card_1</th>\n",
       "      <th>card_2</th>\n",
       "      <th>card_3</th>\n",
       "      <th>card_4</th>\n",
       "      <th>card_5</th>\n",
       "      <th>card_6</th>\n",
       "      <th>card_7</th>\n",
       "      <th>card_8</th>\n",
       "      <th>card_9</th>\n",
       "      <th>card_10</th>\n",
       "      <th>card_11</th>\n",
       "      <th>card_12</th>\n",
       "      <th>card_13</th>\n",
       "      <th>card_14</th>\n",
       "    </tr>\n",
       "    <tr>\n",
       "      <th>package</th>\n",
       "      <th></th>\n",
       "      <th></th>\n",
       "      <th></th>\n",
       "      <th></th>\n",
       "      <th></th>\n",
       "      <th></th>\n",
       "      <th></th>\n",
       "      <th></th>\n",
       "      <th></th>\n",
       "      <th></th>\n",
       "      <th></th>\n",
       "      <th></th>\n",
       "      <th></th>\n",
       "      <th></th>\n",
       "    </tr>\n",
       "  </thead>\n",
       "  <tbody>\n",
       "    <tr>\n",
       "      <th>3</th>\n",
       "      <td>Animal Companion</td>\n",
       "      <td>Kill Command</td>\n",
       "      <td>Eaglehorn Bow</td>\n",
       "      <td>Quick Shot</td>\n",
       "      <td>Savannah Highmane</td>\n",
       "      <td>Unleash the Hounds</td>\n",
       "      <td>Explosive Trap</td>\n",
       "      <td>Freezing Trap</td>\n",
       "      <td>None</td>\n",
       "      <td>None</td>\n",
       "      <td>None</td>\n",
       "      <td>None</td>\n",
       "      <td>None</td>\n",
       "      <td>None</td>\n",
       "    </tr>\n",
       "    <tr>\n",
       "      <th>16</th>\n",
       "      <td>Bloodmage Thalnos</td>\n",
       "      <td>Flamestrike</td>\n",
       "      <td>Water Elemental</td>\n",
       "      <td>Forgotten Torch</td>\n",
       "      <td>Ice Block</td>\n",
       "      <td>Polymorph</td>\n",
       "      <td>Alexstrasza</td>\n",
       "      <td>Mirror Image</td>\n",
       "      <td>Frost Nova</td>\n",
       "      <td>Novice Engineer</td>\n",
       "      <td>Blizzard</td>\n",
       "      <td>Firelands Portal</td>\n",
       "      <td>Ice Lance</td>\n",
       "      <td>Ice Barrier</td>\n",
       "    </tr>\n",
       "    <tr>\n",
       "      <th>28</th>\n",
       "      <td>Southsea Deckhand</td>\n",
       "      <td>N'Zoth's First Mate</td>\n",
       "      <td>Arcanite Reaper</td>\n",
       "      <td>Bloodsail Raider</td>\n",
       "      <td>Upgrade!</td>\n",
       "      <td>Dread Corsair</td>\n",
       "      <td>Heroic Strike</td>\n",
       "      <td>Mortal Strike</td>\n",
       "      <td>Bloodsail Cultist</td>\n",
       "      <td>None</td>\n",
       "      <td>None</td>\n",
       "      <td>None</td>\n",
       "      <td>None</td>\n",
       "      <td>None</td>\n",
       "    </tr>\n",
       "  </tbody>\n",
       "</table>\n",
       "</div>"
      ],
      "text/plain": [
       "                    card_1               card_2           card_3  \\\n",
       "package                                                            \n",
       "3         Animal Companion         Kill Command    Eaglehorn Bow   \n",
       "16       Bloodmage Thalnos          Flamestrike  Water Elemental   \n",
       "28       Southsea Deckhand  N'Zoth's First Mate  Arcanite Reaper   \n",
       "\n",
       "                   card_4             card_5              card_6  \\\n",
       "package                                                            \n",
       "3              Quick Shot  Savannah Highmane  Unleash the Hounds   \n",
       "16        Forgotten Torch          Ice Block           Polymorph   \n",
       "28       Bloodsail Raider           Upgrade!       Dread Corsair   \n",
       "\n",
       "                 card_7         card_8             card_9          card_10  \\\n",
       "package                                                                      \n",
       "3        Explosive Trap  Freezing Trap               None             None   \n",
       "16          Alexstrasza   Mirror Image         Frost Nova  Novice Engineer   \n",
       "28        Heroic Strike  Mortal Strike  Bloodsail Cultist             None   \n",
       "\n",
       "          card_11           card_12    card_13      card_14  \n",
       "package                                                      \n",
       "3            None              None       None         None  \n",
       "16       Blizzard  Firelands Portal  Ice Lance  Ice Barrier  \n",
       "28           None              None       None         None  "
      ]
     },
     "execution_count": 184,
     "metadata": {},
     "output_type": "execute_result"
    }
   ],
   "source": [
    "package_df[package_df.index.isin([3,16,28])]"
   ]
  },
  {
   "cell_type": "markdown",
   "metadata": {},
   "source": [
    "## Conclusion\n",
    "Looking at the table above, the packages identified by the KMeans clustering can be quite accurate. We can see popular packages such as **Hunter core cards** (cluster number 3), **Freeze Mage** (cluster number 16) or **Pirate Warrior** (cluster number 28).  \n",
    "However, KMeans clustering does not allow for the same card to appear in different clusters. This, happends often in Hearthstone. As such, more sophisticated tools will have to be explored for further improve the accuracy of this **package** identificaiton exercise."
   ]
  }
 ],
 "metadata": {
  "kernelspec": {
   "display_name": "Python 3",
   "language": "python",
   "name": "python3"
  },
  "language_info": {
   "codemirror_mode": {
    "name": "ipython",
    "version": 3
   },
   "file_extension": ".py",
   "mimetype": "text/x-python",
   "name": "python",
   "nbconvert_exporter": "python",
   "pygments_lexer": "ipython3",
   "version": "3.6.7"
  }
 },
 "nbformat": 4,
 "nbformat_minor": 2
}
